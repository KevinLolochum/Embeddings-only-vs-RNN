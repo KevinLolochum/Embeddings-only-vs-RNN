{
  "nbformat": 4,
  "nbformat_minor": 0,
  "metadata": {
    "colab": {
      "name": "NLP sentiment Analysis (Embedding vs LSTM vs GRU)",
      "provenance": [],
      "authorship_tag": "ABX9TyNxEcVjmhLUH7ewhAQ4abjv",
      "include_colab_link": true
    },
    "kernelspec": {
      "name": "python3",
      "display_name": "Python 3"
    },
    "accelerator": "GPU",
    "widgets": {
      "application/vnd.jupyter.widget-state+json": {
        "1f205395fa074525b457bf7a2e65ab81": {
          "model_module": "@jupyter-widgets/controls",
          "model_name": "HBoxModel",
          "state": {
            "_view_name": "HBoxView",
            "_dom_classes": [],
            "_model_name": "HBoxModel",
            "_view_module": "@jupyter-widgets/controls",
            "_model_module_version": "1.5.0",
            "_view_count": null,
            "_view_module_version": "1.5.0",
            "box_style": "",
            "layout": "IPY_MODEL_5ae48dbae8c64f608b060520c305a60b",
            "_model_module": "@jupyter-widgets/controls",
            "children": [
              "IPY_MODEL_23a3b4f10a2749559bc7d7be48bcedbe",
              "IPY_MODEL_0f5f9d20e9ca462889a1ba12a3df6d62"
            ]
          }
        },
        "5ae48dbae8c64f608b060520c305a60b": {
          "model_module": "@jupyter-widgets/base",
          "model_name": "LayoutModel",
          "state": {
            "_view_name": "LayoutView",
            "grid_template_rows": null,
            "right": null,
            "justify_content": null,
            "_view_module": "@jupyter-widgets/base",
            "overflow": null,
            "_model_module_version": "1.2.0",
            "_view_count": null,
            "flex_flow": null,
            "width": null,
            "min_width": null,
            "border": null,
            "align_items": null,
            "bottom": null,
            "_model_module": "@jupyter-widgets/base",
            "top": null,
            "grid_column": null,
            "overflow_y": null,
            "overflow_x": null,
            "grid_auto_flow": null,
            "grid_area": null,
            "grid_template_columns": null,
            "flex": null,
            "_model_name": "LayoutModel",
            "justify_items": null,
            "grid_row": null,
            "max_height": null,
            "align_content": null,
            "visibility": null,
            "align_self": null,
            "height": null,
            "min_height": null,
            "padding": null,
            "grid_auto_rows": null,
            "grid_gap": null,
            "max_width": null,
            "order": null,
            "_view_module_version": "1.2.0",
            "grid_template_areas": null,
            "object_position": null,
            "object_fit": null,
            "grid_auto_columns": null,
            "margin": null,
            "display": null,
            "left": null
          }
        },
        "23a3b4f10a2749559bc7d7be48bcedbe": {
          "model_module": "@jupyter-widgets/controls",
          "model_name": "FloatProgressModel",
          "state": {
            "_view_name": "ProgressView",
            "style": "IPY_MODEL_b004957a09d34ec9b1775a81283cf9bb",
            "_dom_classes": [],
            "description": "Dl Completed...: 100%",
            "_model_name": "FloatProgressModel",
            "bar_style": "success",
            "max": 1,
            "_view_module": "@jupyter-widgets/controls",
            "_model_module_version": "1.5.0",
            "value": 1,
            "_view_count": null,
            "_view_module_version": "1.5.0",
            "orientation": "horizontal",
            "min": 0,
            "description_tooltip": null,
            "_model_module": "@jupyter-widgets/controls",
            "layout": "IPY_MODEL_976b3c7db2554c49a6c9ecabdbe42692"
          }
        },
        "0f5f9d20e9ca462889a1ba12a3df6d62": {
          "model_module": "@jupyter-widgets/controls",
          "model_name": "HTMLModel",
          "state": {
            "_view_name": "HTMLView",
            "style": "IPY_MODEL_da157dbbfcd943e9b70e31033b5d3e10",
            "_dom_classes": [],
            "description": "",
            "_model_name": "HTMLModel",
            "placeholder": "​",
            "_view_module": "@jupyter-widgets/controls",
            "_model_module_version": "1.5.0",
            "value": " 1/1 [00:00&lt;00:00,  1.33 url/s]",
            "_view_count": null,
            "_view_module_version": "1.5.0",
            "description_tooltip": null,
            "_model_module": "@jupyter-widgets/controls",
            "layout": "IPY_MODEL_8b41c7b8bcdd4e948636e94b2a6d010b"
          }
        },
        "b004957a09d34ec9b1775a81283cf9bb": {
          "model_module": "@jupyter-widgets/controls",
          "model_name": "ProgressStyleModel",
          "state": {
            "_view_name": "StyleView",
            "_model_name": "ProgressStyleModel",
            "description_width": "initial",
            "_view_module": "@jupyter-widgets/base",
            "_model_module_version": "1.5.0",
            "_view_count": null,
            "_view_module_version": "1.2.0",
            "bar_color": null,
            "_model_module": "@jupyter-widgets/controls"
          }
        },
        "976b3c7db2554c49a6c9ecabdbe42692": {
          "model_module": "@jupyter-widgets/base",
          "model_name": "LayoutModel",
          "state": {
            "_view_name": "LayoutView",
            "grid_template_rows": null,
            "right": null,
            "justify_content": null,
            "_view_module": "@jupyter-widgets/base",
            "overflow": null,
            "_model_module_version": "1.2.0",
            "_view_count": null,
            "flex_flow": null,
            "width": null,
            "min_width": null,
            "border": null,
            "align_items": null,
            "bottom": null,
            "_model_module": "@jupyter-widgets/base",
            "top": null,
            "grid_column": null,
            "overflow_y": null,
            "overflow_x": null,
            "grid_auto_flow": null,
            "grid_area": null,
            "grid_template_columns": null,
            "flex": null,
            "_model_name": "LayoutModel",
            "justify_items": null,
            "grid_row": null,
            "max_height": null,
            "align_content": null,
            "visibility": null,
            "align_self": null,
            "height": null,
            "min_height": null,
            "padding": null,
            "grid_auto_rows": null,
            "grid_gap": null,
            "max_width": null,
            "order": null,
            "_view_module_version": "1.2.0",
            "grid_template_areas": null,
            "object_position": null,
            "object_fit": null,
            "grid_auto_columns": null,
            "margin": null,
            "display": null,
            "left": null
          }
        },
        "da157dbbfcd943e9b70e31033b5d3e10": {
          "model_module": "@jupyter-widgets/controls",
          "model_name": "DescriptionStyleModel",
          "state": {
            "_view_name": "StyleView",
            "_model_name": "DescriptionStyleModel",
            "description_width": "",
            "_view_module": "@jupyter-widgets/base",
            "_model_module_version": "1.5.0",
            "_view_count": null,
            "_view_module_version": "1.2.0",
            "_model_module": "@jupyter-widgets/controls"
          }
        },
        "8b41c7b8bcdd4e948636e94b2a6d010b": {
          "model_module": "@jupyter-widgets/base",
          "model_name": "LayoutModel",
          "state": {
            "_view_name": "LayoutView",
            "grid_template_rows": null,
            "right": null,
            "justify_content": null,
            "_view_module": "@jupyter-widgets/base",
            "overflow": null,
            "_model_module_version": "1.2.0",
            "_view_count": null,
            "flex_flow": null,
            "width": null,
            "min_width": null,
            "border": null,
            "align_items": null,
            "bottom": null,
            "_model_module": "@jupyter-widgets/base",
            "top": null,
            "grid_column": null,
            "overflow_y": null,
            "overflow_x": null,
            "grid_auto_flow": null,
            "grid_area": null,
            "grid_template_columns": null,
            "flex": null,
            "_model_name": "LayoutModel",
            "justify_items": null,
            "grid_row": null,
            "max_height": null,
            "align_content": null,
            "visibility": null,
            "align_self": null,
            "height": null,
            "min_height": null,
            "padding": null,
            "grid_auto_rows": null,
            "grid_gap": null,
            "max_width": null,
            "order": null,
            "_view_module_version": "1.2.0",
            "grid_template_areas": null,
            "object_position": null,
            "object_fit": null,
            "grid_auto_columns": null,
            "margin": null,
            "display": null,
            "left": null
          }
        },
        "66096cc17ec244f4b91ccbd4af24498e": {
          "model_module": "@jupyter-widgets/controls",
          "model_name": "HBoxModel",
          "state": {
            "_view_name": "HBoxView",
            "_dom_classes": [],
            "_model_name": "HBoxModel",
            "_view_module": "@jupyter-widgets/controls",
            "_model_module_version": "1.5.0",
            "_view_count": null,
            "_view_module_version": "1.5.0",
            "box_style": "",
            "layout": "IPY_MODEL_36e1d51923144a83a86fb31f3e98d009",
            "_model_module": "@jupyter-widgets/controls",
            "children": [
              "IPY_MODEL_2993ed0b8b1e4827bb9caac6d1e70fac",
              "IPY_MODEL_5fbe837cace3409abe82170ef1c6f485"
            ]
          }
        },
        "36e1d51923144a83a86fb31f3e98d009": {
          "model_module": "@jupyter-widgets/base",
          "model_name": "LayoutModel",
          "state": {
            "_view_name": "LayoutView",
            "grid_template_rows": null,
            "right": null,
            "justify_content": null,
            "_view_module": "@jupyter-widgets/base",
            "overflow": null,
            "_model_module_version": "1.2.0",
            "_view_count": null,
            "flex_flow": null,
            "width": null,
            "min_width": null,
            "border": null,
            "align_items": null,
            "bottom": null,
            "_model_module": "@jupyter-widgets/base",
            "top": null,
            "grid_column": null,
            "overflow_y": null,
            "overflow_x": null,
            "grid_auto_flow": null,
            "grid_area": null,
            "grid_template_columns": null,
            "flex": null,
            "_model_name": "LayoutModel",
            "justify_items": null,
            "grid_row": null,
            "max_height": null,
            "align_content": null,
            "visibility": null,
            "align_self": null,
            "height": null,
            "min_height": null,
            "padding": null,
            "grid_auto_rows": null,
            "grid_gap": null,
            "max_width": null,
            "order": null,
            "_view_module_version": "1.2.0",
            "grid_template_areas": null,
            "object_position": null,
            "object_fit": null,
            "grid_auto_columns": null,
            "margin": null,
            "display": null,
            "left": null
          }
        },
        "2993ed0b8b1e4827bb9caac6d1e70fac": {
          "model_module": "@jupyter-widgets/controls",
          "model_name": "FloatProgressModel",
          "state": {
            "_view_name": "ProgressView",
            "style": "IPY_MODEL_82c53634262c43899d1daa4265180aed",
            "_dom_classes": [],
            "description": "Dl Size...: 100%",
            "_model_name": "FloatProgressModel",
            "bar_style": "success",
            "max": 1,
            "_view_module": "@jupyter-widgets/controls",
            "_model_module_version": "1.5.0",
            "value": 1,
            "_view_count": null,
            "_view_module_version": "1.5.0",
            "orientation": "horizontal",
            "min": 0,
            "description_tooltip": null,
            "_model_module": "@jupyter-widgets/controls",
            "layout": "IPY_MODEL_989b688c757442b28187b4f4a7a7c050"
          }
        },
        "5fbe837cace3409abe82170ef1c6f485": {
          "model_module": "@jupyter-widgets/controls",
          "model_name": "HTMLModel",
          "state": {
            "_view_name": "HTMLView",
            "style": "IPY_MODEL_91f8f8f086d447aa9b10b5b1f641a19a",
            "_dom_classes": [],
            "description": "",
            "_model_name": "HTMLModel",
            "placeholder": "​",
            "_view_module": "@jupyter-widgets/controls",
            "_model_module_version": "1.5.0",
            "value": " 7/7 [00:00&lt;00:00,  9.62 MiB/s]",
            "_view_count": null,
            "_view_module_version": "1.5.0",
            "description_tooltip": null,
            "_model_module": "@jupyter-widgets/controls",
            "layout": "IPY_MODEL_7e3c106b92204db9a1b6b7e4ee10a2d7"
          }
        },
        "82c53634262c43899d1daa4265180aed": {
          "model_module": "@jupyter-widgets/controls",
          "model_name": "ProgressStyleModel",
          "state": {
            "_view_name": "StyleView",
            "_model_name": "ProgressStyleModel",
            "description_width": "initial",
            "_view_module": "@jupyter-widgets/base",
            "_model_module_version": "1.5.0",
            "_view_count": null,
            "_view_module_version": "1.2.0",
            "bar_color": null,
            "_model_module": "@jupyter-widgets/controls"
          }
        },
        "989b688c757442b28187b4f4a7a7c050": {
          "model_module": "@jupyter-widgets/base",
          "model_name": "LayoutModel",
          "state": {
            "_view_name": "LayoutView",
            "grid_template_rows": null,
            "right": null,
            "justify_content": null,
            "_view_module": "@jupyter-widgets/base",
            "overflow": null,
            "_model_module_version": "1.2.0",
            "_view_count": null,
            "flex_flow": null,
            "width": null,
            "min_width": null,
            "border": null,
            "align_items": null,
            "bottom": null,
            "_model_module": "@jupyter-widgets/base",
            "top": null,
            "grid_column": null,
            "overflow_y": null,
            "overflow_x": null,
            "grid_auto_flow": null,
            "grid_area": null,
            "grid_template_columns": null,
            "flex": null,
            "_model_name": "LayoutModel",
            "justify_items": null,
            "grid_row": null,
            "max_height": null,
            "align_content": null,
            "visibility": null,
            "align_self": null,
            "height": null,
            "min_height": null,
            "padding": null,
            "grid_auto_rows": null,
            "grid_gap": null,
            "max_width": null,
            "order": null,
            "_view_module_version": "1.2.0",
            "grid_template_areas": null,
            "object_position": null,
            "object_fit": null,
            "grid_auto_columns": null,
            "margin": null,
            "display": null,
            "left": null
          }
        },
        "91f8f8f086d447aa9b10b5b1f641a19a": {
          "model_module": "@jupyter-widgets/controls",
          "model_name": "DescriptionStyleModel",
          "state": {
            "_view_name": "StyleView",
            "_model_name": "DescriptionStyleModel",
            "description_width": "",
            "_view_module": "@jupyter-widgets/base",
            "_model_module_version": "1.5.0",
            "_view_count": null,
            "_view_module_version": "1.2.0",
            "_model_module": "@jupyter-widgets/controls"
          }
        },
        "7e3c106b92204db9a1b6b7e4ee10a2d7": {
          "model_module": "@jupyter-widgets/base",
          "model_name": "LayoutModel",
          "state": {
            "_view_name": "LayoutView",
            "grid_template_rows": null,
            "right": null,
            "justify_content": null,
            "_view_module": "@jupyter-widgets/base",
            "overflow": null,
            "_model_module_version": "1.2.0",
            "_view_count": null,
            "flex_flow": null,
            "width": null,
            "min_width": null,
            "border": null,
            "align_items": null,
            "bottom": null,
            "_model_module": "@jupyter-widgets/base",
            "top": null,
            "grid_column": null,
            "overflow_y": null,
            "overflow_x": null,
            "grid_auto_flow": null,
            "grid_area": null,
            "grid_template_columns": null,
            "flex": null,
            "_model_name": "LayoutModel",
            "justify_items": null,
            "grid_row": null,
            "max_height": null,
            "align_content": null,
            "visibility": null,
            "align_self": null,
            "height": null,
            "min_height": null,
            "padding": null,
            "grid_auto_rows": null,
            "grid_gap": null,
            "max_width": null,
            "order": null,
            "_view_module_version": "1.2.0",
            "grid_template_areas": null,
            "object_position": null,
            "object_fit": null,
            "grid_auto_columns": null,
            "margin": null,
            "display": null,
            "left": null
          }
        },
        "c7c894ca2c4f41e39d4446ce209ca904": {
          "model_module": "@jupyter-widgets/controls",
          "model_name": "HBoxModel",
          "state": {
            "_view_name": "HBoxView",
            "_dom_classes": [],
            "_model_name": "HBoxModel",
            "_view_module": "@jupyter-widgets/controls",
            "_model_module_version": "1.5.0",
            "_view_count": null,
            "_view_module_version": "1.5.0",
            "box_style": "",
            "layout": "IPY_MODEL_a095bdae1f7c4cd9b373975c311368dd",
            "_model_module": "@jupyter-widgets/controls",
            "children": [
              "IPY_MODEL_b01ffc720fa549c4850f09de4abe868d",
              "IPY_MODEL_0069ab3d68df48c885e2d140c1b235c8"
            ]
          }
        },
        "a095bdae1f7c4cd9b373975c311368dd": {
          "model_module": "@jupyter-widgets/base",
          "model_name": "LayoutModel",
          "state": {
            "_view_name": "LayoutView",
            "grid_template_rows": null,
            "right": null,
            "justify_content": null,
            "_view_module": "@jupyter-widgets/base",
            "overflow": null,
            "_model_module_version": "1.2.0",
            "_view_count": null,
            "flex_flow": null,
            "width": null,
            "min_width": null,
            "border": null,
            "align_items": null,
            "bottom": null,
            "_model_module": "@jupyter-widgets/base",
            "top": null,
            "grid_column": null,
            "overflow_y": null,
            "overflow_x": null,
            "grid_auto_flow": null,
            "grid_area": null,
            "grid_template_columns": null,
            "flex": null,
            "_model_name": "LayoutModel",
            "justify_items": null,
            "grid_row": null,
            "max_height": null,
            "align_content": null,
            "visibility": null,
            "align_self": null,
            "height": null,
            "min_height": null,
            "padding": null,
            "grid_auto_rows": null,
            "grid_gap": null,
            "max_width": null,
            "order": null,
            "_view_module_version": "1.2.0",
            "grid_template_areas": null,
            "object_position": null,
            "object_fit": null,
            "grid_auto_columns": null,
            "margin": null,
            "display": null,
            "left": null
          }
        },
        "b01ffc720fa549c4850f09de4abe868d": {
          "model_module": "@jupyter-widgets/controls",
          "model_name": "FloatProgressModel",
          "state": {
            "_view_name": "ProgressView",
            "style": "IPY_MODEL_950e5eaab6fc4af58048c1b72bb1211f",
            "_dom_classes": [],
            "description": "Extraction completed...: 100%",
            "_model_name": "FloatProgressModel",
            "bar_style": "success",
            "max": 1,
            "_view_module": "@jupyter-widgets/controls",
            "_model_module_version": "1.5.0",
            "value": 1,
            "_view_count": null,
            "_view_module_version": "1.5.0",
            "orientation": "horizontal",
            "min": 0,
            "description_tooltip": null,
            "_model_module": "@jupyter-widgets/controls",
            "layout": "IPY_MODEL_62b303cf7ea841eb90e7367416d4b3a9"
          }
        },
        "0069ab3d68df48c885e2d140c1b235c8": {
          "model_module": "@jupyter-widgets/controls",
          "model_name": "HTMLModel",
          "state": {
            "_view_name": "HTMLView",
            "style": "IPY_MODEL_ffd64556a05347ec8a6b7d5aca1a4791",
            "_dom_classes": [],
            "description": "",
            "_model_name": "HTMLModel",
            "placeholder": "​",
            "_view_module": "@jupyter-widgets/controls",
            "_model_module_version": "1.5.0",
            "value": " 1/1 [00:00&lt;00:00,  1.44 file/s]",
            "_view_count": null,
            "_view_module_version": "1.5.0",
            "description_tooltip": null,
            "_model_module": "@jupyter-widgets/controls",
            "layout": "IPY_MODEL_a506736f1cfb4eacb89d06466ee49d50"
          }
        },
        "950e5eaab6fc4af58048c1b72bb1211f": {
          "model_module": "@jupyter-widgets/controls",
          "model_name": "ProgressStyleModel",
          "state": {
            "_view_name": "StyleView",
            "_model_name": "ProgressStyleModel",
            "description_width": "initial",
            "_view_module": "@jupyter-widgets/base",
            "_model_module_version": "1.5.0",
            "_view_count": null,
            "_view_module_version": "1.2.0",
            "bar_color": null,
            "_model_module": "@jupyter-widgets/controls"
          }
        },
        "62b303cf7ea841eb90e7367416d4b3a9": {
          "model_module": "@jupyter-widgets/base",
          "model_name": "LayoutModel",
          "state": {
            "_view_name": "LayoutView",
            "grid_template_rows": null,
            "right": null,
            "justify_content": null,
            "_view_module": "@jupyter-widgets/base",
            "overflow": null,
            "_model_module_version": "1.2.0",
            "_view_count": null,
            "flex_flow": null,
            "width": null,
            "min_width": null,
            "border": null,
            "align_items": null,
            "bottom": null,
            "_model_module": "@jupyter-widgets/base",
            "top": null,
            "grid_column": null,
            "overflow_y": null,
            "overflow_x": null,
            "grid_auto_flow": null,
            "grid_area": null,
            "grid_template_columns": null,
            "flex": null,
            "_model_name": "LayoutModel",
            "justify_items": null,
            "grid_row": null,
            "max_height": null,
            "align_content": null,
            "visibility": null,
            "align_self": null,
            "height": null,
            "min_height": null,
            "padding": null,
            "grid_auto_rows": null,
            "grid_gap": null,
            "max_width": null,
            "order": null,
            "_view_module_version": "1.2.0",
            "grid_template_areas": null,
            "object_position": null,
            "object_fit": null,
            "grid_auto_columns": null,
            "margin": null,
            "display": null,
            "left": null
          }
        },
        "ffd64556a05347ec8a6b7d5aca1a4791": {
          "model_module": "@jupyter-widgets/controls",
          "model_name": "DescriptionStyleModel",
          "state": {
            "_view_name": "StyleView",
            "_model_name": "DescriptionStyleModel",
            "description_width": "",
            "_view_module": "@jupyter-widgets/base",
            "_model_module_version": "1.5.0",
            "_view_count": null,
            "_view_module_version": "1.2.0",
            "_model_module": "@jupyter-widgets/controls"
          }
        },
        "a506736f1cfb4eacb89d06466ee49d50": {
          "model_module": "@jupyter-widgets/base",
          "model_name": "LayoutModel",
          "state": {
            "_view_name": "LayoutView",
            "grid_template_rows": null,
            "right": null,
            "justify_content": null,
            "_view_module": "@jupyter-widgets/base",
            "overflow": null,
            "_model_module_version": "1.2.0",
            "_view_count": null,
            "flex_flow": null,
            "width": null,
            "min_width": null,
            "border": null,
            "align_items": null,
            "bottom": null,
            "_model_module": "@jupyter-widgets/base",
            "top": null,
            "grid_column": null,
            "overflow_y": null,
            "overflow_x": null,
            "grid_auto_flow": null,
            "grid_area": null,
            "grid_template_columns": null,
            "flex": null,
            "_model_name": "LayoutModel",
            "justify_items": null,
            "grid_row": null,
            "max_height": null,
            "align_content": null,
            "visibility": null,
            "align_self": null,
            "height": null,
            "min_height": null,
            "padding": null,
            "grid_auto_rows": null,
            "grid_gap": null,
            "max_width": null,
            "order": null,
            "_view_module_version": "1.2.0",
            "grid_template_areas": null,
            "object_position": null,
            "object_fit": null,
            "grid_auto_columns": null,
            "margin": null,
            "display": null,
            "left": null
          }
        },
        "70d8b600ed484284b69768a23c1c7e54": {
          "model_module": "@jupyter-widgets/controls",
          "model_name": "HBoxModel",
          "state": {
            "_view_name": "HBoxView",
            "_dom_classes": [],
            "_model_name": "HBoxModel",
            "_view_module": "@jupyter-widgets/controls",
            "_model_module_version": "1.5.0",
            "_view_count": null,
            "_view_module_version": "1.5.0",
            "box_style": "",
            "layout": "IPY_MODEL_ab287b4bf7704965b815dc9f287f1d5c",
            "_model_module": "@jupyter-widgets/controls",
            "children": [
              "IPY_MODEL_cf8c52fdff164694a87eb19880011f20",
              "IPY_MODEL_07c0d0fd1a1f48f8817ad6ebdb398da1"
            ]
          }
        },
        "ab287b4bf7704965b815dc9f287f1d5c": {
          "model_module": "@jupyter-widgets/base",
          "model_name": "LayoutModel",
          "state": {
            "_view_name": "LayoutView",
            "grid_template_rows": null,
            "right": null,
            "justify_content": null,
            "_view_module": "@jupyter-widgets/base",
            "overflow": null,
            "_model_module_version": "1.2.0",
            "_view_count": null,
            "flex_flow": null,
            "width": null,
            "min_width": null,
            "border": null,
            "align_items": null,
            "bottom": null,
            "_model_module": "@jupyter-widgets/base",
            "top": null,
            "grid_column": null,
            "overflow_y": null,
            "overflow_x": null,
            "grid_auto_flow": null,
            "grid_area": null,
            "grid_template_columns": null,
            "flex": null,
            "_model_name": "LayoutModel",
            "justify_items": null,
            "grid_row": null,
            "max_height": null,
            "align_content": null,
            "visibility": null,
            "align_self": null,
            "height": null,
            "min_height": null,
            "padding": null,
            "grid_auto_rows": null,
            "grid_gap": null,
            "max_width": null,
            "order": null,
            "_view_module_version": "1.2.0",
            "grid_template_areas": null,
            "object_position": null,
            "object_fit": null,
            "grid_auto_columns": null,
            "margin": null,
            "display": null,
            "left": null
          }
        },
        "cf8c52fdff164694a87eb19880011f20": {
          "model_module": "@jupyter-widgets/controls",
          "model_name": "FloatProgressModel",
          "state": {
            "_view_name": "ProgressView",
            "style": "IPY_MODEL_7dfbf3cb2afb48d299bc527b8d0908e2",
            "_dom_classes": [],
            "description": "",
            "_model_name": "FloatProgressModel",
            "bar_style": "info",
            "max": 1,
            "_view_module": "@jupyter-widgets/controls",
            "_model_module_version": "1.5.0",
            "value": 1,
            "_view_count": null,
            "_view_module_version": "1.5.0",
            "orientation": "horizontal",
            "min": 0,
            "description_tooltip": null,
            "_model_module": "@jupyter-widgets/controls",
            "layout": "IPY_MODEL_1ba1752a3afb4af784f987cb32f8ad24"
          }
        },
        "07c0d0fd1a1f48f8817ad6ebdb398da1": {
          "model_module": "@jupyter-widgets/controls",
          "model_name": "HTMLModel",
          "state": {
            "_view_name": "HTMLView",
            "style": "IPY_MODEL_df7531f6e2934b2b9fb811ab1292c799",
            "_dom_classes": [],
            "description": "",
            "_model_name": "HTMLModel",
            "placeholder": "​",
            "_view_module": "@jupyter-widgets/controls",
            "_model_module_version": "1.5.0",
            "value": " 67349/0 [00:18&lt;00:00, 3615.91 examples/s]",
            "_view_count": null,
            "_view_module_version": "1.5.0",
            "description_tooltip": null,
            "_model_module": "@jupyter-widgets/controls",
            "layout": "IPY_MODEL_04429bcf40ec4ef2b4e5a27d43abbfd2"
          }
        },
        "7dfbf3cb2afb48d299bc527b8d0908e2": {
          "model_module": "@jupyter-widgets/controls",
          "model_name": "ProgressStyleModel",
          "state": {
            "_view_name": "StyleView",
            "_model_name": "ProgressStyleModel",
            "description_width": "initial",
            "_view_module": "@jupyter-widgets/base",
            "_model_module_version": "1.5.0",
            "_view_count": null,
            "_view_module_version": "1.2.0",
            "bar_color": null,
            "_model_module": "@jupyter-widgets/controls"
          }
        },
        "1ba1752a3afb4af784f987cb32f8ad24": {
          "model_module": "@jupyter-widgets/base",
          "model_name": "LayoutModel",
          "state": {
            "_view_name": "LayoutView",
            "grid_template_rows": null,
            "right": null,
            "justify_content": null,
            "_view_module": "@jupyter-widgets/base",
            "overflow": null,
            "_model_module_version": "1.2.0",
            "_view_count": null,
            "flex_flow": null,
            "width": null,
            "min_width": null,
            "border": null,
            "align_items": null,
            "bottom": null,
            "_model_module": "@jupyter-widgets/base",
            "top": null,
            "grid_column": null,
            "overflow_y": null,
            "overflow_x": null,
            "grid_auto_flow": null,
            "grid_area": null,
            "grid_template_columns": null,
            "flex": null,
            "_model_name": "LayoutModel",
            "justify_items": null,
            "grid_row": null,
            "max_height": null,
            "align_content": null,
            "visibility": null,
            "align_self": null,
            "height": null,
            "min_height": null,
            "padding": null,
            "grid_auto_rows": null,
            "grid_gap": null,
            "max_width": null,
            "order": null,
            "_view_module_version": "1.2.0",
            "grid_template_areas": null,
            "object_position": null,
            "object_fit": null,
            "grid_auto_columns": null,
            "margin": null,
            "display": null,
            "left": null
          }
        },
        "df7531f6e2934b2b9fb811ab1292c799": {
          "model_module": "@jupyter-widgets/controls",
          "model_name": "DescriptionStyleModel",
          "state": {
            "_view_name": "StyleView",
            "_model_name": "DescriptionStyleModel",
            "description_width": "",
            "_view_module": "@jupyter-widgets/base",
            "_model_module_version": "1.5.0",
            "_view_count": null,
            "_view_module_version": "1.2.0",
            "_model_module": "@jupyter-widgets/controls"
          }
        },
        "04429bcf40ec4ef2b4e5a27d43abbfd2": {
          "model_module": "@jupyter-widgets/base",
          "model_name": "LayoutModel",
          "state": {
            "_view_name": "LayoutView",
            "grid_template_rows": null,
            "right": null,
            "justify_content": null,
            "_view_module": "@jupyter-widgets/base",
            "overflow": null,
            "_model_module_version": "1.2.0",
            "_view_count": null,
            "flex_flow": null,
            "width": null,
            "min_width": null,
            "border": null,
            "align_items": null,
            "bottom": null,
            "_model_module": "@jupyter-widgets/base",
            "top": null,
            "grid_column": null,
            "overflow_y": null,
            "overflow_x": null,
            "grid_auto_flow": null,
            "grid_area": null,
            "grid_template_columns": null,
            "flex": null,
            "_model_name": "LayoutModel",
            "justify_items": null,
            "grid_row": null,
            "max_height": null,
            "align_content": null,
            "visibility": null,
            "align_self": null,
            "height": null,
            "min_height": null,
            "padding": null,
            "grid_auto_rows": null,
            "grid_gap": null,
            "max_width": null,
            "order": null,
            "_view_module_version": "1.2.0",
            "grid_template_areas": null,
            "object_position": null,
            "object_fit": null,
            "grid_auto_columns": null,
            "margin": null,
            "display": null,
            "left": null
          }
        },
        "49c153fcfcc6431482b93d6235022b36": {
          "model_module": "@jupyter-widgets/controls",
          "model_name": "HBoxModel",
          "state": {
            "_view_name": "HBoxView",
            "_dom_classes": [],
            "_model_name": "HBoxModel",
            "_view_module": "@jupyter-widgets/controls",
            "_model_module_version": "1.5.0",
            "_view_count": null,
            "_view_module_version": "1.5.0",
            "box_style": "",
            "layout": "IPY_MODEL_174d133a8b3c47538f718cbadba8abe0",
            "_model_module": "@jupyter-widgets/controls",
            "children": [
              "IPY_MODEL_7b97b216dfe645b1a3a5d9b812315be4",
              "IPY_MODEL_0373d99c4bda476380a731acf94b2394"
            ]
          }
        },
        "174d133a8b3c47538f718cbadba8abe0": {
          "model_module": "@jupyter-widgets/base",
          "model_name": "LayoutModel",
          "state": {
            "_view_name": "LayoutView",
            "grid_template_rows": null,
            "right": null,
            "justify_content": null,
            "_view_module": "@jupyter-widgets/base",
            "overflow": null,
            "_model_module_version": "1.2.0",
            "_view_count": null,
            "flex_flow": null,
            "width": null,
            "min_width": null,
            "border": null,
            "align_items": null,
            "bottom": null,
            "_model_module": "@jupyter-widgets/base",
            "top": null,
            "grid_column": null,
            "overflow_y": null,
            "overflow_x": null,
            "grid_auto_flow": null,
            "grid_area": null,
            "grid_template_columns": null,
            "flex": null,
            "_model_name": "LayoutModel",
            "justify_items": null,
            "grid_row": null,
            "max_height": null,
            "align_content": null,
            "visibility": null,
            "align_self": null,
            "height": null,
            "min_height": null,
            "padding": null,
            "grid_auto_rows": null,
            "grid_gap": null,
            "max_width": null,
            "order": null,
            "_view_module_version": "1.2.0",
            "grid_template_areas": null,
            "object_position": null,
            "object_fit": null,
            "grid_auto_columns": null,
            "margin": null,
            "display": null,
            "left": null
          }
        },
        "7b97b216dfe645b1a3a5d9b812315be4": {
          "model_module": "@jupyter-widgets/controls",
          "model_name": "FloatProgressModel",
          "state": {
            "_view_name": "ProgressView",
            "style": "IPY_MODEL_15f3b4a4e0d3415cb71085fe16430cc0",
            "_dom_classes": [],
            "description": " 89%",
            "_model_name": "FloatProgressModel",
            "bar_style": "danger",
            "max": 67349,
            "_view_module": "@jupyter-widgets/controls",
            "_model_module_version": "1.5.0",
            "value": 59798,
            "_view_count": null,
            "_view_module_version": "1.5.0",
            "orientation": "horizontal",
            "min": 0,
            "description_tooltip": null,
            "_model_module": "@jupyter-widgets/controls",
            "layout": "IPY_MODEL_b6dab325fd244f1595033501cbe38116"
          }
        },
        "0373d99c4bda476380a731acf94b2394": {
          "model_module": "@jupyter-widgets/controls",
          "model_name": "HTMLModel",
          "state": {
            "_view_name": "HTMLView",
            "style": "IPY_MODEL_40e44dfd85354bd58aaeb2d15a35aae7",
            "_dom_classes": [],
            "description": "",
            "_model_name": "HTMLModel",
            "placeholder": "​",
            "_view_module": "@jupyter-widgets/controls",
            "_model_module_version": "1.5.0",
            "value": " 59798/67349 [00:00&lt;00:00, 89537.42 examples/s]",
            "_view_count": null,
            "_view_module_version": "1.5.0",
            "description_tooltip": null,
            "_model_module": "@jupyter-widgets/controls",
            "layout": "IPY_MODEL_2ba00674b7834ef5a427ffd6a5445250"
          }
        },
        "15f3b4a4e0d3415cb71085fe16430cc0": {
          "model_module": "@jupyter-widgets/controls",
          "model_name": "ProgressStyleModel",
          "state": {
            "_view_name": "StyleView",
            "_model_name": "ProgressStyleModel",
            "description_width": "initial",
            "_view_module": "@jupyter-widgets/base",
            "_model_module_version": "1.5.0",
            "_view_count": null,
            "_view_module_version": "1.2.0",
            "bar_color": null,
            "_model_module": "@jupyter-widgets/controls"
          }
        },
        "b6dab325fd244f1595033501cbe38116": {
          "model_module": "@jupyter-widgets/base",
          "model_name": "LayoutModel",
          "state": {
            "_view_name": "LayoutView",
            "grid_template_rows": null,
            "right": null,
            "justify_content": null,
            "_view_module": "@jupyter-widgets/base",
            "overflow": null,
            "_model_module_version": "1.2.0",
            "_view_count": null,
            "flex_flow": null,
            "width": null,
            "min_width": null,
            "border": null,
            "align_items": null,
            "bottom": null,
            "_model_module": "@jupyter-widgets/base",
            "top": null,
            "grid_column": null,
            "overflow_y": null,
            "overflow_x": null,
            "grid_auto_flow": null,
            "grid_area": null,
            "grid_template_columns": null,
            "flex": null,
            "_model_name": "LayoutModel",
            "justify_items": null,
            "grid_row": null,
            "max_height": null,
            "align_content": null,
            "visibility": null,
            "align_self": null,
            "height": null,
            "min_height": null,
            "padding": null,
            "grid_auto_rows": null,
            "grid_gap": null,
            "max_width": null,
            "order": null,
            "_view_module_version": "1.2.0",
            "grid_template_areas": null,
            "object_position": null,
            "object_fit": null,
            "grid_auto_columns": null,
            "margin": null,
            "display": null,
            "left": null
          }
        },
        "40e44dfd85354bd58aaeb2d15a35aae7": {
          "model_module": "@jupyter-widgets/controls",
          "model_name": "DescriptionStyleModel",
          "state": {
            "_view_name": "StyleView",
            "_model_name": "DescriptionStyleModel",
            "description_width": "",
            "_view_module": "@jupyter-widgets/base",
            "_model_module_version": "1.5.0",
            "_view_count": null,
            "_view_module_version": "1.2.0",
            "_model_module": "@jupyter-widgets/controls"
          }
        },
        "2ba00674b7834ef5a427ffd6a5445250": {
          "model_module": "@jupyter-widgets/base",
          "model_name": "LayoutModel",
          "state": {
            "_view_name": "LayoutView",
            "grid_template_rows": null,
            "right": null,
            "justify_content": null,
            "_view_module": "@jupyter-widgets/base",
            "overflow": null,
            "_model_module_version": "1.2.0",
            "_view_count": null,
            "flex_flow": null,
            "width": null,
            "min_width": null,
            "border": null,
            "align_items": null,
            "bottom": null,
            "_model_module": "@jupyter-widgets/base",
            "top": null,
            "grid_column": null,
            "overflow_y": null,
            "overflow_x": null,
            "grid_auto_flow": null,
            "grid_area": null,
            "grid_template_columns": null,
            "flex": null,
            "_model_name": "LayoutModel",
            "justify_items": null,
            "grid_row": null,
            "max_height": null,
            "align_content": null,
            "visibility": null,
            "align_self": null,
            "height": null,
            "min_height": null,
            "padding": null,
            "grid_auto_rows": null,
            "grid_gap": null,
            "max_width": null,
            "order": null,
            "_view_module_version": "1.2.0",
            "grid_template_areas": null,
            "object_position": null,
            "object_fit": null,
            "grid_auto_columns": null,
            "margin": null,
            "display": null,
            "left": null
          }
        },
        "53f343ebca1f4c8d9a9aa85e26d917d6": {
          "model_module": "@jupyter-widgets/controls",
          "model_name": "HBoxModel",
          "state": {
            "_view_name": "HBoxView",
            "_dom_classes": [],
            "_model_name": "HBoxModel",
            "_view_module": "@jupyter-widgets/controls",
            "_model_module_version": "1.5.0",
            "_view_count": null,
            "_view_module_version": "1.5.0",
            "box_style": "",
            "layout": "IPY_MODEL_ee4050f6a37f451499df17c7f81f91ae",
            "_model_module": "@jupyter-widgets/controls",
            "children": [
              "IPY_MODEL_292c025a243743f4bea0ef8b474d2a4d",
              "IPY_MODEL_f3b282db75974e80a5255c14d6ffd5d5"
            ]
          }
        },
        "ee4050f6a37f451499df17c7f81f91ae": {
          "model_module": "@jupyter-widgets/base",
          "model_name": "LayoutModel",
          "state": {
            "_view_name": "LayoutView",
            "grid_template_rows": null,
            "right": null,
            "justify_content": null,
            "_view_module": "@jupyter-widgets/base",
            "overflow": null,
            "_model_module_version": "1.2.0",
            "_view_count": null,
            "flex_flow": null,
            "width": null,
            "min_width": null,
            "border": null,
            "align_items": null,
            "bottom": null,
            "_model_module": "@jupyter-widgets/base",
            "top": null,
            "grid_column": null,
            "overflow_y": null,
            "overflow_x": null,
            "grid_auto_flow": null,
            "grid_area": null,
            "grid_template_columns": null,
            "flex": null,
            "_model_name": "LayoutModel",
            "justify_items": null,
            "grid_row": null,
            "max_height": null,
            "align_content": null,
            "visibility": null,
            "align_self": null,
            "height": null,
            "min_height": null,
            "padding": null,
            "grid_auto_rows": null,
            "grid_gap": null,
            "max_width": null,
            "order": null,
            "_view_module_version": "1.2.0",
            "grid_template_areas": null,
            "object_position": null,
            "object_fit": null,
            "grid_auto_columns": null,
            "margin": null,
            "display": null,
            "left": null
          }
        },
        "292c025a243743f4bea0ef8b474d2a4d": {
          "model_module": "@jupyter-widgets/controls",
          "model_name": "FloatProgressModel",
          "state": {
            "_view_name": "ProgressView",
            "style": "IPY_MODEL_a47779b8ea7a46d2bce804b56a32f85b",
            "_dom_classes": [],
            "description": "",
            "_model_name": "FloatProgressModel",
            "bar_style": "info",
            "max": 1,
            "_view_module": "@jupyter-widgets/controls",
            "_model_module_version": "1.5.0",
            "value": 1,
            "_view_count": null,
            "_view_module_version": "1.5.0",
            "orientation": "horizontal",
            "min": 0,
            "description_tooltip": null,
            "_model_module": "@jupyter-widgets/controls",
            "layout": "IPY_MODEL_68a7083941ae465b9f8e77b8c25228d1"
          }
        },
        "f3b282db75974e80a5255c14d6ffd5d5": {
          "model_module": "@jupyter-widgets/controls",
          "model_name": "HTMLModel",
          "state": {
            "_view_name": "HTMLView",
            "style": "IPY_MODEL_88498aa8beb44b4db1b0527b5326dfdc",
            "_dom_classes": [],
            "description": "",
            "_model_name": "HTMLModel",
            "placeholder": "​",
            "_view_module": "@jupyter-widgets/controls",
            "_model_module_version": "1.5.0",
            "value": " 872/0 [00:00&lt;00:00, 3570.98 examples/s]",
            "_view_count": null,
            "_view_module_version": "1.5.0",
            "description_tooltip": null,
            "_model_module": "@jupyter-widgets/controls",
            "layout": "IPY_MODEL_3ede24c13ef04c1f96f5f86bdfd2d751"
          }
        },
        "a47779b8ea7a46d2bce804b56a32f85b": {
          "model_module": "@jupyter-widgets/controls",
          "model_name": "ProgressStyleModel",
          "state": {
            "_view_name": "StyleView",
            "_model_name": "ProgressStyleModel",
            "description_width": "initial",
            "_view_module": "@jupyter-widgets/base",
            "_model_module_version": "1.5.0",
            "_view_count": null,
            "_view_module_version": "1.2.0",
            "bar_color": null,
            "_model_module": "@jupyter-widgets/controls"
          }
        },
        "68a7083941ae465b9f8e77b8c25228d1": {
          "model_module": "@jupyter-widgets/base",
          "model_name": "LayoutModel",
          "state": {
            "_view_name": "LayoutView",
            "grid_template_rows": null,
            "right": null,
            "justify_content": null,
            "_view_module": "@jupyter-widgets/base",
            "overflow": null,
            "_model_module_version": "1.2.0",
            "_view_count": null,
            "flex_flow": null,
            "width": null,
            "min_width": null,
            "border": null,
            "align_items": null,
            "bottom": null,
            "_model_module": "@jupyter-widgets/base",
            "top": null,
            "grid_column": null,
            "overflow_y": null,
            "overflow_x": null,
            "grid_auto_flow": null,
            "grid_area": null,
            "grid_template_columns": null,
            "flex": null,
            "_model_name": "LayoutModel",
            "justify_items": null,
            "grid_row": null,
            "max_height": null,
            "align_content": null,
            "visibility": null,
            "align_self": null,
            "height": null,
            "min_height": null,
            "padding": null,
            "grid_auto_rows": null,
            "grid_gap": null,
            "max_width": null,
            "order": null,
            "_view_module_version": "1.2.0",
            "grid_template_areas": null,
            "object_position": null,
            "object_fit": null,
            "grid_auto_columns": null,
            "margin": null,
            "display": null,
            "left": null
          }
        },
        "88498aa8beb44b4db1b0527b5326dfdc": {
          "model_module": "@jupyter-widgets/controls",
          "model_name": "DescriptionStyleModel",
          "state": {
            "_view_name": "StyleView",
            "_model_name": "DescriptionStyleModel",
            "description_width": "",
            "_view_module": "@jupyter-widgets/base",
            "_model_module_version": "1.5.0",
            "_view_count": null,
            "_view_module_version": "1.2.0",
            "_model_module": "@jupyter-widgets/controls"
          }
        },
        "3ede24c13ef04c1f96f5f86bdfd2d751": {
          "model_module": "@jupyter-widgets/base",
          "model_name": "LayoutModel",
          "state": {
            "_view_name": "LayoutView",
            "grid_template_rows": null,
            "right": null,
            "justify_content": null,
            "_view_module": "@jupyter-widgets/base",
            "overflow": null,
            "_model_module_version": "1.2.0",
            "_view_count": null,
            "flex_flow": null,
            "width": null,
            "min_width": null,
            "border": null,
            "align_items": null,
            "bottom": null,
            "_model_module": "@jupyter-widgets/base",
            "top": null,
            "grid_column": null,
            "overflow_y": null,
            "overflow_x": null,
            "grid_auto_flow": null,
            "grid_area": null,
            "grid_template_columns": null,
            "flex": null,
            "_model_name": "LayoutModel",
            "justify_items": null,
            "grid_row": null,
            "max_height": null,
            "align_content": null,
            "visibility": null,
            "align_self": null,
            "height": null,
            "min_height": null,
            "padding": null,
            "grid_auto_rows": null,
            "grid_gap": null,
            "max_width": null,
            "order": null,
            "_view_module_version": "1.2.0",
            "grid_template_areas": null,
            "object_position": null,
            "object_fit": null,
            "grid_auto_columns": null,
            "margin": null,
            "display": null,
            "left": null
          }
        },
        "df0af38e59474faaad9af09f0033fe89": {
          "model_module": "@jupyter-widgets/controls",
          "model_name": "HBoxModel",
          "state": {
            "_view_name": "HBoxView",
            "_dom_classes": [],
            "_model_name": "HBoxModel",
            "_view_module": "@jupyter-widgets/controls",
            "_model_module_version": "1.5.0",
            "_view_count": null,
            "_view_module_version": "1.5.0",
            "box_style": "",
            "layout": "IPY_MODEL_429b9777ad3b4e66b3f23e9e7a8ce840",
            "_model_module": "@jupyter-widgets/controls",
            "children": [
              "IPY_MODEL_7633bd53342e48a5ab10a351d7f5467d",
              "IPY_MODEL_4c02646ccab54f86bf054e34bffea5a6"
            ]
          }
        },
        "429b9777ad3b4e66b3f23e9e7a8ce840": {
          "model_module": "@jupyter-widgets/base",
          "model_name": "LayoutModel",
          "state": {
            "_view_name": "LayoutView",
            "grid_template_rows": null,
            "right": null,
            "justify_content": null,
            "_view_module": "@jupyter-widgets/base",
            "overflow": null,
            "_model_module_version": "1.2.0",
            "_view_count": null,
            "flex_flow": null,
            "width": null,
            "min_width": null,
            "border": null,
            "align_items": null,
            "bottom": null,
            "_model_module": "@jupyter-widgets/base",
            "top": null,
            "grid_column": null,
            "overflow_y": null,
            "overflow_x": null,
            "grid_auto_flow": null,
            "grid_area": null,
            "grid_template_columns": null,
            "flex": null,
            "_model_name": "LayoutModel",
            "justify_items": null,
            "grid_row": null,
            "max_height": null,
            "align_content": null,
            "visibility": null,
            "align_self": null,
            "height": null,
            "min_height": null,
            "padding": null,
            "grid_auto_rows": null,
            "grid_gap": null,
            "max_width": null,
            "order": null,
            "_view_module_version": "1.2.0",
            "grid_template_areas": null,
            "object_position": null,
            "object_fit": null,
            "grid_auto_columns": null,
            "margin": null,
            "display": null,
            "left": null
          }
        },
        "7633bd53342e48a5ab10a351d7f5467d": {
          "model_module": "@jupyter-widgets/controls",
          "model_name": "FloatProgressModel",
          "state": {
            "_view_name": "ProgressView",
            "style": "IPY_MODEL_9b4d5b3664374e2090f4accc651ea132",
            "_dom_classes": [],
            "description": "  0%",
            "_model_name": "FloatProgressModel",
            "bar_style": "danger",
            "max": 872,
            "_view_module": "@jupyter-widgets/controls",
            "_model_module_version": "1.5.0",
            "value": 0,
            "_view_count": null,
            "_view_module_version": "1.5.0",
            "orientation": "horizontal",
            "min": 0,
            "description_tooltip": null,
            "_model_module": "@jupyter-widgets/controls",
            "layout": "IPY_MODEL_af3e2dceac8f4801bdf952dedbffa1b7"
          }
        },
        "4c02646ccab54f86bf054e34bffea5a6": {
          "model_module": "@jupyter-widgets/controls",
          "model_name": "HTMLModel",
          "state": {
            "_view_name": "HTMLView",
            "style": "IPY_MODEL_1c2c2a243f344f22b45ce08356d92e71",
            "_dom_classes": [],
            "description": "",
            "_model_name": "HTMLModel",
            "placeholder": "​",
            "_view_module": "@jupyter-widgets/controls",
            "_model_module_version": "1.5.0",
            "value": " 0/872 [00:00&lt;?, ? examples/s]",
            "_view_count": null,
            "_view_module_version": "1.5.0",
            "description_tooltip": null,
            "_model_module": "@jupyter-widgets/controls",
            "layout": "IPY_MODEL_797fa8a0b2b74e4185bd6f5f46cb5496"
          }
        },
        "9b4d5b3664374e2090f4accc651ea132": {
          "model_module": "@jupyter-widgets/controls",
          "model_name": "ProgressStyleModel",
          "state": {
            "_view_name": "StyleView",
            "_model_name": "ProgressStyleModel",
            "description_width": "initial",
            "_view_module": "@jupyter-widgets/base",
            "_model_module_version": "1.5.0",
            "_view_count": null,
            "_view_module_version": "1.2.0",
            "bar_color": null,
            "_model_module": "@jupyter-widgets/controls"
          }
        },
        "af3e2dceac8f4801bdf952dedbffa1b7": {
          "model_module": "@jupyter-widgets/base",
          "model_name": "LayoutModel",
          "state": {
            "_view_name": "LayoutView",
            "grid_template_rows": null,
            "right": null,
            "justify_content": null,
            "_view_module": "@jupyter-widgets/base",
            "overflow": null,
            "_model_module_version": "1.2.0",
            "_view_count": null,
            "flex_flow": null,
            "width": null,
            "min_width": null,
            "border": null,
            "align_items": null,
            "bottom": null,
            "_model_module": "@jupyter-widgets/base",
            "top": null,
            "grid_column": null,
            "overflow_y": null,
            "overflow_x": null,
            "grid_auto_flow": null,
            "grid_area": null,
            "grid_template_columns": null,
            "flex": null,
            "_model_name": "LayoutModel",
            "justify_items": null,
            "grid_row": null,
            "max_height": null,
            "align_content": null,
            "visibility": null,
            "align_self": null,
            "height": null,
            "min_height": null,
            "padding": null,
            "grid_auto_rows": null,
            "grid_gap": null,
            "max_width": null,
            "order": null,
            "_view_module_version": "1.2.0",
            "grid_template_areas": null,
            "object_position": null,
            "object_fit": null,
            "grid_auto_columns": null,
            "margin": null,
            "display": null,
            "left": null
          }
        },
        "1c2c2a243f344f22b45ce08356d92e71": {
          "model_module": "@jupyter-widgets/controls",
          "model_name": "DescriptionStyleModel",
          "state": {
            "_view_name": "StyleView",
            "_model_name": "DescriptionStyleModel",
            "description_width": "",
            "_view_module": "@jupyter-widgets/base",
            "_model_module_version": "1.5.0",
            "_view_count": null,
            "_view_module_version": "1.2.0",
            "_model_module": "@jupyter-widgets/controls"
          }
        },
        "797fa8a0b2b74e4185bd6f5f46cb5496": {
          "model_module": "@jupyter-widgets/base",
          "model_name": "LayoutModel",
          "state": {
            "_view_name": "LayoutView",
            "grid_template_rows": null,
            "right": null,
            "justify_content": null,
            "_view_module": "@jupyter-widgets/base",
            "overflow": null,
            "_model_module_version": "1.2.0",
            "_view_count": null,
            "flex_flow": null,
            "width": null,
            "min_width": null,
            "border": null,
            "align_items": null,
            "bottom": null,
            "_model_module": "@jupyter-widgets/base",
            "top": null,
            "grid_column": null,
            "overflow_y": null,
            "overflow_x": null,
            "grid_auto_flow": null,
            "grid_area": null,
            "grid_template_columns": null,
            "flex": null,
            "_model_name": "LayoutModel",
            "justify_items": null,
            "grid_row": null,
            "max_height": null,
            "align_content": null,
            "visibility": null,
            "align_self": null,
            "height": null,
            "min_height": null,
            "padding": null,
            "grid_auto_rows": null,
            "grid_gap": null,
            "max_width": null,
            "order": null,
            "_view_module_version": "1.2.0",
            "grid_template_areas": null,
            "object_position": null,
            "object_fit": null,
            "grid_auto_columns": null,
            "margin": null,
            "display": null,
            "left": null
          }
        },
        "3ffac1d699e9454caa7b02f97e456530": {
          "model_module": "@jupyter-widgets/controls",
          "model_name": "HBoxModel",
          "state": {
            "_view_name": "HBoxView",
            "_dom_classes": [],
            "_model_name": "HBoxModel",
            "_view_module": "@jupyter-widgets/controls",
            "_model_module_version": "1.5.0",
            "_view_count": null,
            "_view_module_version": "1.5.0",
            "box_style": "",
            "layout": "IPY_MODEL_e78455ad21d84dd98eaad2bcd21e0c1b",
            "_model_module": "@jupyter-widgets/controls",
            "children": [
              "IPY_MODEL_bf59ed77ba694b869fefb118dc0bbfa4",
              "IPY_MODEL_2aabb4b622e340cf886d7393590303cf"
            ]
          }
        },
        "e78455ad21d84dd98eaad2bcd21e0c1b": {
          "model_module": "@jupyter-widgets/base",
          "model_name": "LayoutModel",
          "state": {
            "_view_name": "LayoutView",
            "grid_template_rows": null,
            "right": null,
            "justify_content": null,
            "_view_module": "@jupyter-widgets/base",
            "overflow": null,
            "_model_module_version": "1.2.0",
            "_view_count": null,
            "flex_flow": null,
            "width": null,
            "min_width": null,
            "border": null,
            "align_items": null,
            "bottom": null,
            "_model_module": "@jupyter-widgets/base",
            "top": null,
            "grid_column": null,
            "overflow_y": null,
            "overflow_x": null,
            "grid_auto_flow": null,
            "grid_area": null,
            "grid_template_columns": null,
            "flex": null,
            "_model_name": "LayoutModel",
            "justify_items": null,
            "grid_row": null,
            "max_height": null,
            "align_content": null,
            "visibility": null,
            "align_self": null,
            "height": null,
            "min_height": null,
            "padding": null,
            "grid_auto_rows": null,
            "grid_gap": null,
            "max_width": null,
            "order": null,
            "_view_module_version": "1.2.0",
            "grid_template_areas": null,
            "object_position": null,
            "object_fit": null,
            "grid_auto_columns": null,
            "margin": null,
            "display": null,
            "left": null
          }
        },
        "bf59ed77ba694b869fefb118dc0bbfa4": {
          "model_module": "@jupyter-widgets/controls",
          "model_name": "FloatProgressModel",
          "state": {
            "_view_name": "ProgressView",
            "style": "IPY_MODEL_b3563b909c0c482f9617c8b6ac36b168",
            "_dom_classes": [],
            "description": "",
            "_model_name": "FloatProgressModel",
            "bar_style": "info",
            "max": 1,
            "_view_module": "@jupyter-widgets/controls",
            "_model_module_version": "1.5.0",
            "value": 1,
            "_view_count": null,
            "_view_module_version": "1.5.0",
            "orientation": "horizontal",
            "min": 0,
            "description_tooltip": null,
            "_model_module": "@jupyter-widgets/controls",
            "layout": "IPY_MODEL_a603d5a3fc1a48d1a2ac2ef617cdda5e"
          }
        },
        "2aabb4b622e340cf886d7393590303cf": {
          "model_module": "@jupyter-widgets/controls",
          "model_name": "HTMLModel",
          "state": {
            "_view_name": "HTMLView",
            "style": "IPY_MODEL_3d14637a9c3b4943a3b09e747ec41cb9",
            "_dom_classes": [],
            "description": "",
            "_model_name": "HTMLModel",
            "placeholder": "​",
            "_view_module": "@jupyter-widgets/controls",
            "_model_module_version": "1.5.0",
            "value": " 1821/0 [00:00&lt;00:00, 3737.50 examples/s]",
            "_view_count": null,
            "_view_module_version": "1.5.0",
            "description_tooltip": null,
            "_model_module": "@jupyter-widgets/controls",
            "layout": "IPY_MODEL_17a3b1682928496e86f72656650073e2"
          }
        },
        "b3563b909c0c482f9617c8b6ac36b168": {
          "model_module": "@jupyter-widgets/controls",
          "model_name": "ProgressStyleModel",
          "state": {
            "_view_name": "StyleView",
            "_model_name": "ProgressStyleModel",
            "description_width": "initial",
            "_view_module": "@jupyter-widgets/base",
            "_model_module_version": "1.5.0",
            "_view_count": null,
            "_view_module_version": "1.2.0",
            "bar_color": null,
            "_model_module": "@jupyter-widgets/controls"
          }
        },
        "a603d5a3fc1a48d1a2ac2ef617cdda5e": {
          "model_module": "@jupyter-widgets/base",
          "model_name": "LayoutModel",
          "state": {
            "_view_name": "LayoutView",
            "grid_template_rows": null,
            "right": null,
            "justify_content": null,
            "_view_module": "@jupyter-widgets/base",
            "overflow": null,
            "_model_module_version": "1.2.0",
            "_view_count": null,
            "flex_flow": null,
            "width": null,
            "min_width": null,
            "border": null,
            "align_items": null,
            "bottom": null,
            "_model_module": "@jupyter-widgets/base",
            "top": null,
            "grid_column": null,
            "overflow_y": null,
            "overflow_x": null,
            "grid_auto_flow": null,
            "grid_area": null,
            "grid_template_columns": null,
            "flex": null,
            "_model_name": "LayoutModel",
            "justify_items": null,
            "grid_row": null,
            "max_height": null,
            "align_content": null,
            "visibility": null,
            "align_self": null,
            "height": null,
            "min_height": null,
            "padding": null,
            "grid_auto_rows": null,
            "grid_gap": null,
            "max_width": null,
            "order": null,
            "_view_module_version": "1.2.0",
            "grid_template_areas": null,
            "object_position": null,
            "object_fit": null,
            "grid_auto_columns": null,
            "margin": null,
            "display": null,
            "left": null
          }
        },
        "3d14637a9c3b4943a3b09e747ec41cb9": {
          "model_module": "@jupyter-widgets/controls",
          "model_name": "DescriptionStyleModel",
          "state": {
            "_view_name": "StyleView",
            "_model_name": "DescriptionStyleModel",
            "description_width": "",
            "_view_module": "@jupyter-widgets/base",
            "_model_module_version": "1.5.0",
            "_view_count": null,
            "_view_module_version": "1.2.0",
            "_model_module": "@jupyter-widgets/controls"
          }
        },
        "17a3b1682928496e86f72656650073e2": {
          "model_module": "@jupyter-widgets/base",
          "model_name": "LayoutModel",
          "state": {
            "_view_name": "LayoutView",
            "grid_template_rows": null,
            "right": null,
            "justify_content": null,
            "_view_module": "@jupyter-widgets/base",
            "overflow": null,
            "_model_module_version": "1.2.0",
            "_view_count": null,
            "flex_flow": null,
            "width": null,
            "min_width": null,
            "border": null,
            "align_items": null,
            "bottom": null,
            "_model_module": "@jupyter-widgets/base",
            "top": null,
            "grid_column": null,
            "overflow_y": null,
            "overflow_x": null,
            "grid_auto_flow": null,
            "grid_area": null,
            "grid_template_columns": null,
            "flex": null,
            "_model_name": "LayoutModel",
            "justify_items": null,
            "grid_row": null,
            "max_height": null,
            "align_content": null,
            "visibility": null,
            "align_self": null,
            "height": null,
            "min_height": null,
            "padding": null,
            "grid_auto_rows": null,
            "grid_gap": null,
            "max_width": null,
            "order": null,
            "_view_module_version": "1.2.0",
            "grid_template_areas": null,
            "object_position": null,
            "object_fit": null,
            "grid_auto_columns": null,
            "margin": null,
            "display": null,
            "left": null
          }
        },
        "595a7ce970a74aa2ba13be38ca080677": {
          "model_module": "@jupyter-widgets/controls",
          "model_name": "HBoxModel",
          "state": {
            "_view_name": "HBoxView",
            "_dom_classes": [],
            "_model_name": "HBoxModel",
            "_view_module": "@jupyter-widgets/controls",
            "_model_module_version": "1.5.0",
            "_view_count": null,
            "_view_module_version": "1.5.0",
            "box_style": "",
            "layout": "IPY_MODEL_d1a87d4e8c374ff182fc41b5351ada47",
            "_model_module": "@jupyter-widgets/controls",
            "children": [
              "IPY_MODEL_b7f79bcc9f0f44edaac17a98579aca64",
              "IPY_MODEL_991cd3ee7e1c488990a2ccf093b5f299"
            ]
          }
        },
        "d1a87d4e8c374ff182fc41b5351ada47": {
          "model_module": "@jupyter-widgets/base",
          "model_name": "LayoutModel",
          "state": {
            "_view_name": "LayoutView",
            "grid_template_rows": null,
            "right": null,
            "justify_content": null,
            "_view_module": "@jupyter-widgets/base",
            "overflow": null,
            "_model_module_version": "1.2.0",
            "_view_count": null,
            "flex_flow": null,
            "width": null,
            "min_width": null,
            "border": null,
            "align_items": null,
            "bottom": null,
            "_model_module": "@jupyter-widgets/base",
            "top": null,
            "grid_column": null,
            "overflow_y": null,
            "overflow_x": null,
            "grid_auto_flow": null,
            "grid_area": null,
            "grid_template_columns": null,
            "flex": null,
            "_model_name": "LayoutModel",
            "justify_items": null,
            "grid_row": null,
            "max_height": null,
            "align_content": null,
            "visibility": null,
            "align_self": null,
            "height": null,
            "min_height": null,
            "padding": null,
            "grid_auto_rows": null,
            "grid_gap": null,
            "max_width": null,
            "order": null,
            "_view_module_version": "1.2.0",
            "grid_template_areas": null,
            "object_position": null,
            "object_fit": null,
            "grid_auto_columns": null,
            "margin": null,
            "display": null,
            "left": null
          }
        },
        "b7f79bcc9f0f44edaac17a98579aca64": {
          "model_module": "@jupyter-widgets/controls",
          "model_name": "FloatProgressModel",
          "state": {
            "_view_name": "ProgressView",
            "style": "IPY_MODEL_109f9e7975914715bbedfb2b34f01aa1",
            "_dom_classes": [],
            "description": "  0%",
            "_model_name": "FloatProgressModel",
            "bar_style": "danger",
            "max": 1821,
            "_view_module": "@jupyter-widgets/controls",
            "_model_module_version": "1.5.0",
            "value": 0,
            "_view_count": null,
            "_view_module_version": "1.5.0",
            "orientation": "horizontal",
            "min": 0,
            "description_tooltip": null,
            "_model_module": "@jupyter-widgets/controls",
            "layout": "IPY_MODEL_5e8f2008ca8e41ab9861138a44cafa0f"
          }
        },
        "991cd3ee7e1c488990a2ccf093b5f299": {
          "model_module": "@jupyter-widgets/controls",
          "model_name": "HTMLModel",
          "state": {
            "_view_name": "HTMLView",
            "style": "IPY_MODEL_8a5409d8a977418397da489471e347d0",
            "_dom_classes": [],
            "description": "",
            "_model_name": "HTMLModel",
            "placeholder": "​",
            "_view_module": "@jupyter-widgets/controls",
            "_model_module_version": "1.5.0",
            "value": " 0/1821 [00:00&lt;?, ? examples/s]",
            "_view_count": null,
            "_view_module_version": "1.5.0",
            "description_tooltip": null,
            "_model_module": "@jupyter-widgets/controls",
            "layout": "IPY_MODEL_61fdf06bce4b43a9bb8a2177415da1c6"
          }
        },
        "109f9e7975914715bbedfb2b34f01aa1": {
          "model_module": "@jupyter-widgets/controls",
          "model_name": "ProgressStyleModel",
          "state": {
            "_view_name": "StyleView",
            "_model_name": "ProgressStyleModel",
            "description_width": "initial",
            "_view_module": "@jupyter-widgets/base",
            "_model_module_version": "1.5.0",
            "_view_count": null,
            "_view_module_version": "1.2.0",
            "bar_color": null,
            "_model_module": "@jupyter-widgets/controls"
          }
        },
        "5e8f2008ca8e41ab9861138a44cafa0f": {
          "model_module": "@jupyter-widgets/base",
          "model_name": "LayoutModel",
          "state": {
            "_view_name": "LayoutView",
            "grid_template_rows": null,
            "right": null,
            "justify_content": null,
            "_view_module": "@jupyter-widgets/base",
            "overflow": null,
            "_model_module_version": "1.2.0",
            "_view_count": null,
            "flex_flow": null,
            "width": null,
            "min_width": null,
            "border": null,
            "align_items": null,
            "bottom": null,
            "_model_module": "@jupyter-widgets/base",
            "top": null,
            "grid_column": null,
            "overflow_y": null,
            "overflow_x": null,
            "grid_auto_flow": null,
            "grid_area": null,
            "grid_template_columns": null,
            "flex": null,
            "_model_name": "LayoutModel",
            "justify_items": null,
            "grid_row": null,
            "max_height": null,
            "align_content": null,
            "visibility": null,
            "align_self": null,
            "height": null,
            "min_height": null,
            "padding": null,
            "grid_auto_rows": null,
            "grid_gap": null,
            "max_width": null,
            "order": null,
            "_view_module_version": "1.2.0",
            "grid_template_areas": null,
            "object_position": null,
            "object_fit": null,
            "grid_auto_columns": null,
            "margin": null,
            "display": null,
            "left": null
          }
        },
        "8a5409d8a977418397da489471e347d0": {
          "model_module": "@jupyter-widgets/controls",
          "model_name": "DescriptionStyleModel",
          "state": {
            "_view_name": "StyleView",
            "_model_name": "DescriptionStyleModel",
            "description_width": "",
            "_view_module": "@jupyter-widgets/base",
            "_model_module_version": "1.5.0",
            "_view_count": null,
            "_view_module_version": "1.2.0",
            "_model_module": "@jupyter-widgets/controls"
          }
        },
        "61fdf06bce4b43a9bb8a2177415da1c6": {
          "model_module": "@jupyter-widgets/base",
          "model_name": "LayoutModel",
          "state": {
            "_view_name": "LayoutView",
            "grid_template_rows": null,
            "right": null,
            "justify_content": null,
            "_view_module": "@jupyter-widgets/base",
            "overflow": null,
            "_model_module_version": "1.2.0",
            "_view_count": null,
            "flex_flow": null,
            "width": null,
            "min_width": null,
            "border": null,
            "align_items": null,
            "bottom": null,
            "_model_module": "@jupyter-widgets/base",
            "top": null,
            "grid_column": null,
            "overflow_y": null,
            "overflow_x": null,
            "grid_auto_flow": null,
            "grid_area": null,
            "grid_template_columns": null,
            "flex": null,
            "_model_name": "LayoutModel",
            "justify_items": null,
            "grid_row": null,
            "max_height": null,
            "align_content": null,
            "visibility": null,
            "align_self": null,
            "height": null,
            "min_height": null,
            "padding": null,
            "grid_auto_rows": null,
            "grid_gap": null,
            "max_width": null,
            "order": null,
            "_view_module_version": "1.2.0",
            "grid_template_areas": null,
            "object_position": null,
            "object_fit": null,
            "grid_auto_columns": null,
            "margin": null,
            "display": null,
            "left": null
          }
        }
      }
    }
  },
  "cells": [
    {
      "cell_type": "markdown",
      "metadata": {
        "id": "view-in-github",
        "colab_type": "text"
      },
      "source": [
        "<a href=\"https://colab.research.google.com/github/KevinLolochum/NLP/blob/main/NLP_sentiment_Analysis_(Embedding_vs_LSTM_vs_GRU).ipynb\" target=\"_parent\"><img src=\"https://colab.research.google.com/assets/colab-badge.svg\" alt=\"Open In Colab\"/></a>"
      ]
    },
    {
      "cell_type": "markdown",
      "metadata": {
        "id": "p0yKdQWonsS1"
      },
      "source": [
        "RNNs are very important in NLP because they are able to keep the the sequence of words deep into the network. LSTMs, a type of RNNs is very good at keeping important words in a sentence and remembering them deep into the network.\n",
        "\n",
        "In this example of sentiment analysis I demonstrate the difference in performance between an embedding only deep neural network and one where an RNN layer like Gated Reccurrent unit (GRU) or Long Short Term Memory (LSTM) is icluded.\n",
        "\n",
        "I use the movie reviews tensorflow dataset to demonstrate this."
      ]
    },
    {
      "cell_type": "code",
      "metadata": {
        "id": "4Mvwe_6fbxAD"
      },
      "source": [
        "# NLP tasks imports\n",
        "import tensorflow as tf\n",
        "import tensorflow_datasets as tfds\n",
        "from tensorflow.keras.preprocessing.text import Tokenizer\n",
        "from tensorflow.keras.preprocessing.sequence import pad_sequences\n",
        "\n",
        "# Python data libraries\n",
        "import numpy as np\n",
        "import pandas as pd\n",
        "import matplotlib.pyplot as plt\n"
      ],
      "execution_count": 2,
      "outputs": []
    },
    {
      "cell_type": "code",
      "metadata": {
        "id": "d8s35caHm2Ge",
        "outputId": "b8ca647e-ecdf-46ee-d958-17ef99d147d2",
        "colab": {
          "base_uri": "https://localhost:8080/",
          "height": 528,
          "referenced_widgets": [
            "1f205395fa074525b457bf7a2e65ab81",
            "5ae48dbae8c64f608b060520c305a60b",
            "23a3b4f10a2749559bc7d7be48bcedbe",
            "0f5f9d20e9ca462889a1ba12a3df6d62",
            "b004957a09d34ec9b1775a81283cf9bb",
            "976b3c7db2554c49a6c9ecabdbe42692",
            "da157dbbfcd943e9b70e31033b5d3e10",
            "8b41c7b8bcdd4e948636e94b2a6d010b",
            "66096cc17ec244f4b91ccbd4af24498e",
            "36e1d51923144a83a86fb31f3e98d009",
            "2993ed0b8b1e4827bb9caac6d1e70fac",
            "5fbe837cace3409abe82170ef1c6f485",
            "82c53634262c43899d1daa4265180aed",
            "989b688c757442b28187b4f4a7a7c050",
            "91f8f8f086d447aa9b10b5b1f641a19a",
            "7e3c106b92204db9a1b6b7e4ee10a2d7",
            "c7c894ca2c4f41e39d4446ce209ca904",
            "a095bdae1f7c4cd9b373975c311368dd",
            "b01ffc720fa549c4850f09de4abe868d",
            "0069ab3d68df48c885e2d140c1b235c8",
            "950e5eaab6fc4af58048c1b72bb1211f",
            "62b303cf7ea841eb90e7367416d4b3a9",
            "ffd64556a05347ec8a6b7d5aca1a4791",
            "a506736f1cfb4eacb89d06466ee49d50",
            "70d8b600ed484284b69768a23c1c7e54",
            "ab287b4bf7704965b815dc9f287f1d5c",
            "cf8c52fdff164694a87eb19880011f20",
            "07c0d0fd1a1f48f8817ad6ebdb398da1",
            "7dfbf3cb2afb48d299bc527b8d0908e2",
            "1ba1752a3afb4af784f987cb32f8ad24",
            "df7531f6e2934b2b9fb811ab1292c799",
            "04429bcf40ec4ef2b4e5a27d43abbfd2",
            "49c153fcfcc6431482b93d6235022b36",
            "174d133a8b3c47538f718cbadba8abe0",
            "7b97b216dfe645b1a3a5d9b812315be4",
            "0373d99c4bda476380a731acf94b2394",
            "15f3b4a4e0d3415cb71085fe16430cc0",
            "b6dab325fd244f1595033501cbe38116",
            "40e44dfd85354bd58aaeb2d15a35aae7",
            "2ba00674b7834ef5a427ffd6a5445250",
            "53f343ebca1f4c8d9a9aa85e26d917d6",
            "ee4050f6a37f451499df17c7f81f91ae",
            "292c025a243743f4bea0ef8b474d2a4d",
            "f3b282db75974e80a5255c14d6ffd5d5",
            "a47779b8ea7a46d2bce804b56a32f85b",
            "68a7083941ae465b9f8e77b8c25228d1",
            "88498aa8beb44b4db1b0527b5326dfdc",
            "3ede24c13ef04c1f96f5f86bdfd2d751",
            "df0af38e59474faaad9af09f0033fe89",
            "429b9777ad3b4e66b3f23e9e7a8ce840",
            "7633bd53342e48a5ab10a351d7f5467d",
            "4c02646ccab54f86bf054e34bffea5a6",
            "9b4d5b3664374e2090f4accc651ea132",
            "af3e2dceac8f4801bdf952dedbffa1b7",
            "1c2c2a243f344f22b45ce08356d92e71",
            "797fa8a0b2b74e4185bd6f5f46cb5496",
            "3ffac1d699e9454caa7b02f97e456530",
            "e78455ad21d84dd98eaad2bcd21e0c1b",
            "bf59ed77ba694b869fefb118dc0bbfa4",
            "2aabb4b622e340cf886d7393590303cf",
            "b3563b909c0c482f9617c8b6ac36b168",
            "a603d5a3fc1a48d1a2ac2ef617cdda5e",
            "3d14637a9c3b4943a3b09e747ec41cb9",
            "17a3b1682928496e86f72656650073e2",
            "595a7ce970a74aa2ba13be38ca080677",
            "d1a87d4e8c374ff182fc41b5351ada47",
            "b7f79bcc9f0f44edaac17a98579aca64",
            "991cd3ee7e1c488990a2ccf093b5f299",
            "109f9e7975914715bbedfb2b34f01aa1",
            "5e8f2008ca8e41ab9861138a44cafa0f",
            "8a5409d8a977418397da489471e347d0",
            "61fdf06bce4b43a9bb8a2177415da1c6"
          ]
        }
      },
      "source": [
        "# I will use the GLUE movie reviews dataset for training and testing\n",
        "data, info = tfds.load('glue/sst2', with_info=True)\n",
        "print(info.features)\n",
        "print(info.features[\"label\"].num_classes)\n",
        "print(info.features[\"label\"].names)\n"
      ],
      "execution_count": 3,
      "outputs": [
        {
          "output_type": "stream",
          "text": [
            "\u001b[1mDownloading and preparing dataset glue/sst2/1.0.0 (download: 7.09 MiB, generated: Unknown size, total: 7.09 MiB) to /root/tensorflow_datasets/glue/sst2/1.0.0...\u001b[0m\n"
          ],
          "name": "stdout"
        },
        {
          "output_type": "display_data",
          "data": {
            "application/vnd.jupyter.widget-view+json": {
              "model_id": "1f205395fa074525b457bf7a2e65ab81",
              "version_minor": 0,
              "version_major": 2
            },
            "text/plain": [
              "HBox(children=(FloatProgress(value=1.0, bar_style='info', description='Dl Completed...', max=1.0, style=Progre…"
            ]
          },
          "metadata": {
            "tags": []
          }
        },
        {
          "output_type": "display_data",
          "data": {
            "application/vnd.jupyter.widget-view+json": {
              "model_id": "66096cc17ec244f4b91ccbd4af24498e",
              "version_minor": 0,
              "version_major": 2
            },
            "text/plain": [
              "HBox(children=(FloatProgress(value=1.0, bar_style='info', description='Dl Size...', max=1.0, style=ProgressSty…"
            ]
          },
          "metadata": {
            "tags": []
          }
        },
        {
          "output_type": "display_data",
          "data": {
            "application/vnd.jupyter.widget-view+json": {
              "model_id": "c7c894ca2c4f41e39d4446ce209ca904",
              "version_minor": 0,
              "version_major": 2
            },
            "text/plain": [
              "HBox(children=(FloatProgress(value=1.0, bar_style='info', description='Extraction completed...', max=1.0, styl…"
            ]
          },
          "metadata": {
            "tags": []
          }
        },
        {
          "output_type": "stream",
          "text": [
            "\n",
            "\n",
            "\n",
            "\n",
            "\n",
            "\n"
          ],
          "name": "stdout"
        },
        {
          "output_type": "display_data",
          "data": {
            "application/vnd.jupyter.widget-view+json": {
              "model_id": "70d8b600ed484284b69768a23c1c7e54",
              "version_minor": 0,
              "version_major": 2
            },
            "text/plain": [
              "HBox(children=(FloatProgress(value=1.0, bar_style='info', max=1.0), HTML(value='')))"
            ]
          },
          "metadata": {
            "tags": []
          }
        },
        {
          "output_type": "stream",
          "text": [
            "\rShuffling and writing examples to /root/tensorflow_datasets/glue/sst2/1.0.0.incompleteH9C7K7/glue-train.tfrecord\n"
          ],
          "name": "stdout"
        },
        {
          "output_type": "display_data",
          "data": {
            "application/vnd.jupyter.widget-view+json": {
              "model_id": "49c153fcfcc6431482b93d6235022b36",
              "version_minor": 0,
              "version_major": 2
            },
            "text/plain": [
              "HBox(children=(FloatProgress(value=0.0, max=67349.0), HTML(value='')))"
            ]
          },
          "metadata": {
            "tags": []
          }
        },
        {
          "output_type": "stream",
          "text": [
            "\r"
          ],
          "name": "stdout"
        },
        {
          "output_type": "display_data",
          "data": {
            "application/vnd.jupyter.widget-view+json": {
              "model_id": "53f343ebca1f4c8d9a9aa85e26d917d6",
              "version_minor": 0,
              "version_major": 2
            },
            "text/plain": [
              "HBox(children=(FloatProgress(value=1.0, bar_style='info', max=1.0), HTML(value='')))"
            ]
          },
          "metadata": {
            "tags": []
          }
        },
        {
          "output_type": "stream",
          "text": [
            "\rShuffling and writing examples to /root/tensorflow_datasets/glue/sst2/1.0.0.incompleteH9C7K7/glue-validation.tfrecord\n"
          ],
          "name": "stdout"
        },
        {
          "output_type": "display_data",
          "data": {
            "application/vnd.jupyter.widget-view+json": {
              "model_id": "df0af38e59474faaad9af09f0033fe89",
              "version_minor": 0,
              "version_major": 2
            },
            "text/plain": [
              "HBox(children=(FloatProgress(value=0.0, max=872.0), HTML(value='')))"
            ]
          },
          "metadata": {
            "tags": []
          }
        },
        {
          "output_type": "stream",
          "text": [
            "\r"
          ],
          "name": "stdout"
        },
        {
          "output_type": "display_data",
          "data": {
            "application/vnd.jupyter.widget-view+json": {
              "model_id": "3ffac1d699e9454caa7b02f97e456530",
              "version_minor": 0,
              "version_major": 2
            },
            "text/plain": [
              "HBox(children=(FloatProgress(value=1.0, bar_style='info', max=1.0), HTML(value='')))"
            ]
          },
          "metadata": {
            "tags": []
          }
        },
        {
          "output_type": "stream",
          "text": [
            "\rShuffling and writing examples to /root/tensorflow_datasets/glue/sst2/1.0.0.incompleteH9C7K7/glue-test.tfrecord\n"
          ],
          "name": "stdout"
        },
        {
          "output_type": "display_data",
          "data": {
            "application/vnd.jupyter.widget-view+json": {
              "model_id": "595a7ce970a74aa2ba13be38ca080677",
              "version_minor": 0,
              "version_major": 2
            },
            "text/plain": [
              "HBox(children=(FloatProgress(value=0.0, max=1821.0), HTML(value='')))"
            ]
          },
          "metadata": {
            "tags": []
          }
        },
        {
          "output_type": "stream",
          "text": [
            "\u001b[1mDataset glue downloaded and prepared to /root/tensorflow_datasets/glue/sst2/1.0.0. Subsequent calls will reuse this data.\u001b[0m\n",
            "\rFeaturesDict({\n",
            "    'idx': tf.int32,\n",
            "    'label': ClassLabel(shape=(), dtype=tf.int64, num_classes=2),\n",
            "    'sentence': Text(shape=(), dtype=tf.string),\n",
            "})\n",
            "2\n",
            "['negative', 'positive']\n"
          ],
          "name": "stdout"
        }
      ]
    },
    {
      "cell_type": "markdown",
      "metadata": {
        "id": "KFRRVc3FMN8t"
      },
      "source": [
        "# Splitting data to training and validation and transformation"
      ]
    },
    {
      "cell_type": "code",
      "metadata": {
        "id": "2cKXGz9y8hv7",
        "outputId": "4e4f67e2-6d1d-478d-bc39-d12109573d40",
        "colab": {
          "base_uri": "https://localhost:8080/",
          "height": 123
        }
      },
      "source": [
        "# Getting the training and the validation dataset and checking dtypes and data\n",
        "Training_data, Validation_data = data['train'], data['validation']\n",
        "\n",
        "# Viewing some entries\n",
        "for example in Training_data.take(2):  \n",
        "  review, label = example[\"sentence\"], example[\"label\"]\n",
        "  print(\"Review:\", review)\n",
        "  print(\"Label: %d \\n\" % label.numpy())\n",
        "\n"
      ],
      "execution_count": 4,
      "outputs": [
        {
          "output_type": "stream",
          "text": [
            "Review: tf.Tensor(b'for the uninitiated plays better on video with the sound ', shape=(), dtype=string)\n",
            "Label: 0 \n",
            "\n",
            "Review: tf.Tensor(b'like a giant commercial for universal studios , where much of the action takes place ', shape=(), dtype=string)\n",
            "Label: 0 \n",
            "\n"
          ],
          "name": "stdout"
        }
      ]
    },
    {
      "cell_type": "markdown",
      "metadata": {
        "id": "-J7jBW1gZY6R"
      },
      "source": [
        "Extracitng reviews and and labels and turning to tensors"
      ]
    },
    {
      "cell_type": "code",
      "metadata": {
        "id": "uqKl2RdpVJtp"
      },
      "source": [
        "# Split data to sentences and labels corpus\n",
        "training_reviews = []\n",
        "training_labels = []\n",
        " \n",
        "validation_reviews = []\n",
        "validation_labels = []\n",
        "\n",
        "for entry in Training_data:\n",
        "  review, label = entry['sentence'], entry['label']\n",
        "  training_reviews.append(str(review.numpy()))\n",
        "  training_labels.append(label.numpy())\n",
        "\n",
        "for entry in Validation_data:\n",
        "  review, label = entry['sentence'], entry['label']\n",
        "  validation_reviews.append(str(review.numpy()))\n",
        "  validation_labels.append(label.numpy())\n",
        "\n",
        "# Make labels into numpy arrays for use with the network later\n",
        "training_labels_final = np.array(training_labels)\n",
        "validation_labels_final = np.array(validation_labels)"
      ],
      "execution_count": 5,
      "outputs": []
    },
    {
      "cell_type": "markdown",
      "metadata": {
        "id": "ms10rao-azVI"
      },
      "source": [
        "# Tokenizing, sequencing and padding the reviews"
      ]
    },
    {
      "cell_type": "code",
      "metadata": {
        "id": "dEVhbjhDu-Mx"
      },
      "source": [
        "# tokenize both the training and testing dataset\n",
        "\n",
        "# A reasonable revie has about 40-50 important words, the rest might be stop words so I will cap review length at 50\n",
        "vocab_size =15000\n",
        "embedding_dim = 16\n",
        "max_length = 50 \n",
        "trunc_type='post'\n",
        "padding_type='post'\n",
        "oov_tok = \"<OOV>\"\n",
        "\n",
        "tokenizer = Tokenizer(num_words= vocab_size, oov_token=oov_tok)\n",
        "tokenizer.fit_on_texts(training_reviews)\n",
        "word_index = tokenizer.word_index\n",
        "\n",
        "# Sequencing and padding\n",
        "sequence = tokenizer.texts_to_sequences(training_reviews)\n",
        "padded = pad_sequences(sequences=sequence, maxlen=max_length, padding=padding_type, truncating=trunc_type)\n",
        "\n",
        "validation_sequences = tokenizer.texts_to_sequences(validation_reviews)\n",
        "validation_padded = pad_sequences(sequences=validation_sequences, maxlen=max_length, padding=padding_type, truncating=trunc_type)"
      ],
      "execution_count": 12,
      "outputs": []
    },
    {
      "cell_type": "markdown",
      "metadata": {
        "id": "CWwVG59a8Z7Z"
      },
      "source": [
        "## An embedding model"
      ]
    },
    {
      "cell_type": "code",
      "metadata": {
        "id": "0Qe4kIaY78OC",
        "outputId": "e04227f2-e8fd-4cc9-ddc2-2097900aa3d1",
        "colab": {
          "base_uri": "https://localhost:8080/",
          "height": 265
        }
      },
      "source": [
        "from tensorflow.keras import Sequential\n",
        "from tensorflow.keras.layers import Embedding, GlobalAveragePooling1D, Dense, Bidirectional, LSTM, Dropout, GRU\n",
        "from tensorflow.keras.callbacks import EarlyStopping\n",
        "\n",
        "\n",
        "\n",
        "Emodel= Sequential()\n",
        "Emodel.add(Embedding(vocab_size, embedding_dim, input_length=max_length ))\n",
        "Emodel.add(GlobalAveragePooling1D())\n",
        "Emodel.add(Dense(6, activation ='relu'))\n",
        "Emodel.add(Dense(1, activation= 'sigmoid'))\n",
        "\n",
        "# Compiling\n",
        "Emodel.compile(optimizer = 'adam', loss= 'binary_crossentropy', metrics = ['accuracy'])\n",
        "\n",
        "# Model training with early stopping when the val_loss is no longer increasing.\n",
        "\n",
        "callback = EarlyStopping(monitor= 'val_loss', patience = 6)\n",
        "num_epochs = 30\n",
        "history = Emodel.fit(padded, training_labels_final, epochs=num_epochs, validation_data=(validation_padded, validation_labels_final), callbacks = [callback])\n"
      ],
      "execution_count": 7,
      "outputs": [
        {
          "output_type": "stream",
          "text": [
            "Epoch 1/30\n",
            "2105/2105 [==============================] - 9s 4ms/step - loss: 0.5733 - accuracy: 0.6805 - val_loss: 0.4468 - val_accuracy: 0.8096\n",
            "Epoch 2/30\n",
            "2105/2105 [==============================] - 9s 4ms/step - loss: 0.3289 - accuracy: 0.8585 - val_loss: 0.4640 - val_accuracy: 0.8222\n",
            "Epoch 3/30\n",
            "2105/2105 [==============================] - 10s 5ms/step - loss: 0.2700 - accuracy: 0.8814 - val_loss: 0.5121 - val_accuracy: 0.8039\n",
            "Epoch 4/30\n",
            "2105/2105 [==============================] - 9s 4ms/step - loss: 0.2426 - accuracy: 0.8924 - val_loss: 0.5466 - val_accuracy: 0.8028\n",
            "Epoch 5/30\n",
            "2105/2105 [==============================] - 9s 4ms/step - loss: 0.2266 - accuracy: 0.8987 - val_loss: 0.5868 - val_accuracy: 0.8028\n",
            "Epoch 6/30\n",
            "2105/2105 [==============================] - 9s 4ms/step - loss: 0.2168 - accuracy: 0.9024 - val_loss: 0.6020 - val_accuracy: 0.8154\n",
            "Epoch 7/30\n",
            "2105/2105 [==============================] - 9s 4ms/step - loss: 0.2095 - accuracy: 0.9048 - val_loss: 0.6269 - val_accuracy: 0.8062\n"
          ],
          "name": "stdout"
        }
      ]
    },
    {
      "cell_type": "markdown",
      "metadata": {
        "id": "j8M0v0y7FpeX"
      },
      "source": [
        "Model provides decent accuracy but stops after 7 epochs after loss stops improving. Training accuracy continues going up, possible overfitting."
      ]
    },
    {
      "cell_type": "code",
      "metadata": {
        "id": "15neMzNvSaLg",
        "outputId": "df2ae14f-93f0-4aac-ce34-8eef76a78a7d",
        "colab": {
          "base_uri": "https://localhost:8080/",
          "height": 541
        }
      },
      "source": [
        "# Visualizing the accuracy and loss graphs\n",
        "\n",
        "def plots(history, string):\n",
        "  plt.plot(history.history[string])\n",
        "  plt.plot(history.history['val_'+string])\n",
        "  plt.xlabel(\"Epochs\")\n",
        "  plt.ylabel(string)\n",
        "  plt.legend([string, 'val_'+string])\n",
        "  plt.show()\n",
        "\n",
        "  \n",
        "\n",
        "plots(history, 'accuracy')\n",
        "\n",
        "plots(history, 'loss')\n",
        "\n"
      ],
      "execution_count": 8,
      "outputs": [
        {
          "output_type": "display_data",
          "data": {
            "image/png": "[encoded data removed]",
            "text/plain": [
              "<Figure size 432x288 with 1 Axes>"
            ]
          },
          "metadata": {
            "tags": [],
            "needs_background": "light"
          }
        },
        {
          "output_type": "display_data",
          "data": {
            "image/png": "[encoded data removed]",
            "text/plain": [
              "<Figure size 432x288 with 1 Axes>"
            ]
          },
          "metadata": {
            "tags": [],
            "needs_background": "light"
          }
        }
      ]
    },
    {
      "cell_type": "markdown",
      "metadata": {
        "id": "5s2a_JbcIvFU"
      },
      "source": [
        "GRUs and LSTMs"
      ]
    },
    {
      "cell_type": "code",
      "metadata": {
        "id": "eGmz6YyUAH7G"
      },
      "source": [
        "# Function that compiles, tains model and shows results for model\n",
        "\n",
        "# Compiling and training\n",
        "def fit_train(model):\n",
        "  model.compile(optimizer= tf.keras.optimizers.Adam(learning_rate= 0.00003), loss = 'binary_crossentropy', metrics=['accuracy'])\n",
        "  history = model.fit(padded, training_labels_final, epochs = num_epochs, \n",
        "                      validation_data=(validation_padded, validation_labels_final), callbacks= [callback])\n",
        "  return history\n",
        "\n",
        "\n",
        "def plot_results (history):\n",
        "  plots(history, \"accuracy\")\n",
        "  plots(history, \"loss\")\n",
        "\n",
        "\n"
      ],
      "execution_count": 18,
      "outputs": []
    },
    {
      "cell_type": "markdown",
      "metadata": {
        "id": "HEerjqbwO7FW"
      },
      "source": [
        "## Bidirection LSTM model."
      ]
    },
    {
      "cell_type": "markdown",
      "metadata": {
        "id": "Nv4ztKBQJD_r"
      },
      "source": [
        "LSTM helps keep context of related words using 'cell state', where in the forget-gate, it forgets words that are not important. The words from earlier states (reviews) can be carried forward if they are important so that they can affect the context of later states that are not immidiate neighbors."
      ]
    },
    {
      "cell_type": "code",
      "metadata": {
        "id": "oe5TxE4SPAul"
      },
      "source": [
        "from keras.regularizers import L2\n",
        "\n",
        "LSTM_model  = Sequential()\n",
        "LSTM_model.add(Embedding(vocab_size, embedding_dim, input_length= max_length))\n",
        "LSTM_model.add(Bidirectional(LSTM(embedding_dim, kernel_regularizer= L2(0.01), recurrent_regularizer= L2(0.01), bias_regularizer= L2(0.01))))\n",
        "LSTM_model.add(Dense(4, activation= 'relu'))\n",
        "LSTM_model.add(Dropout(0.6))\n",
        "LSTM_model.add(Dense(1, activation= 'sigmoid'))\n"
      ],
      "execution_count": 78,
      "outputs": []
    },
    {
      "cell_type": "code",
      "metadata": {
        "id": "EuwAWk5LdkDy",
        "outputId": "1e490fe1-7713-444a-d188-9c80d2cc3e74",
        "colab": {
          "base_uri": "https://localhost:8080/",
          "height": 1000
        }
      },
      "source": [
        "fit_train(LSTM_model)"
      ],
      "execution_count": 79,
      "outputs": [
        {
          "output_type": "stream",
          "text": [
            "Epoch 1/30\n",
            "2105/2105 [==============================] - 22s 10ms/step - loss: 1.5739 - accuracy: 0.5553 - val_loss: 1.3645 - val_accuracy: 0.5092\n",
            "Epoch 2/30\n",
            "2105/2105 [==============================] - 21s 10ms/step - loss: 1.2186 - accuracy: 0.5578 - val_loss: 1.1060 - val_accuracy: 0.5092\n",
            "Epoch 3/30\n",
            "2105/2105 [==============================] - 22s 10ms/step - loss: 1.0230 - accuracy: 0.5578 - val_loss: 0.9647 - val_accuracy: 0.5092\n",
            "Epoch 4/30\n",
            "2105/2105 [==============================] - 22s 10ms/step - loss: 0.9182 - accuracy: 0.5578 - val_loss: 0.8911 - val_accuracy: 0.5092\n",
            "Epoch 5/30\n",
            "2105/2105 [==============================] - 22s 11ms/step - loss: 0.8626 - accuracy: 0.5578 - val_loss: 0.8515 - val_accuracy: 0.5092\n",
            "Epoch 6/30\n",
            "2105/2105 [==============================] - 22s 11ms/step - loss: 0.8295 - accuracy: 0.5578 - val_loss: 0.8235 - val_accuracy: 0.5092\n",
            "Epoch 7/30\n",
            "2105/2105 [==============================] - 22s 11ms/step - loss: 0.8033 - accuracy: 0.5578 - val_loss: 0.7988 - val_accuracy: 0.5092\n",
            "Epoch 8/30\n",
            "2105/2105 [==============================] - 22s 11ms/step - loss: 0.7787 - accuracy: 0.5588 - val_loss: 0.7759 - val_accuracy: 0.5092\n",
            "Epoch 9/30\n",
            "2105/2105 [==============================] - 22s 11ms/step - loss: 0.7559 - accuracy: 0.5726 - val_loss: 0.7545 - val_accuracy: 0.5172\n",
            "Epoch 10/30\n",
            "2105/2105 [==============================] - 22s 11ms/step - loss: 0.7337 - accuracy: 0.6000 - val_loss: 0.7329 - val_accuracy: 0.6239\n",
            "Epoch 11/30\n",
            "2105/2105 [==============================] - 23s 11ms/step - loss: 0.7100 - accuracy: 0.6389 - val_loss: 0.7052 - val_accuracy: 0.6835\n",
            "Epoch 12/30\n",
            "2105/2105 [==============================] - 23s 11ms/step - loss: 0.6803 - accuracy: 0.6911 - val_loss: 0.6482 - val_accuracy: 0.7603\n",
            "Epoch 13/30\n",
            "2105/2105 [==============================] - 23s 11ms/step - loss: 0.6434 - accuracy: 0.7340 - val_loss: 0.5867 - val_accuracy: 0.7890\n",
            "Epoch 14/30\n",
            "2105/2105 [==============================] - 23s 11ms/step - loss: 0.6145 - accuracy: 0.7534 - val_loss: 0.5606 - val_accuracy: 0.8028\n",
            "Epoch 15/30\n",
            "2105/2105 [==============================] - 22s 11ms/step - loss: 0.5962 - accuracy: 0.7630 - val_loss: 0.5406 - val_accuracy: 0.8005\n",
            "Epoch 16/30\n",
            "2105/2105 [==============================] - 23s 11ms/step - loss: 0.5811 - accuracy: 0.7719 - val_loss: 0.5245 - val_accuracy: 0.8096\n",
            "Epoch 17/30\n",
            "2105/2105 [==============================] - 23s 11ms/step - loss: 0.5666 - accuracy: 0.7791 - val_loss: 0.5124 - val_accuracy: 0.8188\n",
            "Epoch 18/30\n",
            "2105/2105 [==============================] - 23s 11ms/step - loss: 0.5537 - accuracy: 0.7853 - val_loss: 0.5022 - val_accuracy: 0.8188\n",
            "Epoch 19/30\n",
            "2105/2105 [==============================] - 23s 11ms/step - loss: 0.5457 - accuracy: 0.7891 - val_loss: 0.4934 - val_accuracy: 0.8222\n",
            "Epoch 20/30\n",
            "2105/2105 [==============================] - 23s 11ms/step - loss: 0.5340 - accuracy: 0.7950 - val_loss: 0.4876 - val_accuracy: 0.8268\n",
            "Epoch 21/30\n",
            "2105/2105 [==============================] - 23s 11ms/step - loss: 0.5286 - accuracy: 0.7982 - val_loss: 0.4825 - val_accuracy: 0.8222\n",
            "Epoch 22/30\n",
            "2105/2105 [==============================] - 23s 11ms/step - loss: 0.5192 - accuracy: 0.8000 - val_loss: 0.4796 - val_accuracy: 0.8154\n",
            "Epoch 23/30\n",
            "2105/2105 [==============================] - 23s 11ms/step - loss: 0.5144 - accuracy: 0.8024 - val_loss: 0.4764 - val_accuracy: 0.8165\n",
            "Epoch 24/30\n",
            "2105/2105 [==============================] - 23s 11ms/step - loss: 0.5051 - accuracy: 0.8089 - val_loss: 0.4737 - val_accuracy: 0.8200\n",
            "Epoch 25/30\n",
            "2105/2105 [==============================] - 24s 11ms/step - loss: 0.4996 - accuracy: 0.8076 - val_loss: 0.4721 - val_accuracy: 0.8154\n",
            "Epoch 26/30\n",
            "2105/2105 [==============================] - 23s 11ms/step - loss: 0.4953 - accuracy: 0.8104 - val_loss: 0.4699 - val_accuracy: 0.8211\n",
            "Epoch 27/30\n",
            "2105/2105 [==============================] - 23s 11ms/step - loss: 0.4919 - accuracy: 0.8107 - val_loss: 0.4699 - val_accuracy: 0.8188\n",
            "Epoch 28/30\n",
            "2105/2105 [==============================] - 24s 11ms/step - loss: 0.4846 - accuracy: 0.8137 - val_loss: 0.4689 - val_accuracy: 0.8188\n",
            "Epoch 29/30\n",
            "2105/2105 [==============================] - 23s 11ms/step - loss: 0.4813 - accuracy: 0.8144 - val_loss: 0.4690 - val_accuracy: 0.8165\n",
            "Epoch 30/30\n",
            "2105/2105 [==============================] - 23s 11ms/step - loss: 0.4766 - accuracy: 0.8162 - val_loss: 0.4711 - val_accuracy: 0.8119\n"
          ],
          "name": "stdout"
        },
        {
          "output_type": "execute_result",
          "data": {
            "text/plain": [
              "<tensorflow.python.keras.callbacks.History at 0x7f7b71b5ed68>"
            ]
          },
          "metadata": {
            "tags": []
          },
          "execution_count": 79
        }
      ]
    },
    {
      "cell_type": "markdown",
      "metadata": {
        "id": "MhpLuhQMoROi"
      },
      "source": [
        "Model seemed to overfit at first but improved significantly after I introduced some techniques to reduce variance.\n",
        "\n",
        "The L2 regularization implimented in this model was also very important at keeping the loss value very low and the loss improved significantly over the epochs.\n",
        "\n",
        "Data seems to favor a simple model.\n",
        "\n"
      ]
    },
    {
      "cell_type": "markdown",
      "metadata": {
        "id": "nAlGGX9pf0LH"
      },
      "source": [
        "## GRU model"
      ]
    },
    {
      "cell_type": "code",
      "metadata": {
        "id": "Y9o08cwv2ye4"
      },
      "source": [
        "GRU_model = tf.keras.Sequential([\n",
        "    tf.keras.layers.Embedding(vocab_size, embedding_dim, input_length=max_length),\n",
        "    tf.keras.layers.Bidirectional(tf.keras.layers.GRU(32)),\n",
        "    tf.keras.layers.Dropout(0.6),\n",
        "    tf.keras.layers.Dense(1, activation='sigmoid')\n",
        "])"
      ],
      "execution_count": 19,
      "outputs": []
    },
    {
      "cell_type": "code",
      "metadata": {
        "id": "LjPgw-KAy3zr",
        "outputId": "ca802896-acdd-4f09-9ea6-4fac07628ed4",
        "colab": {
          "base_uri": "https://localhost:8080/",
          "height": 461
        }
      },
      "source": [
        "fit_train(GRU_model)"
      ],
      "execution_count": 20,
      "outputs": [
        {
          "output_type": "stream",
          "text": [
            "Epoch 1/30\n",
            "2105/2105 [==============================] - 21s 10ms/step - loss: 0.6866 - accuracy: 0.5566 - val_loss: 0.6954 - val_accuracy: 0.5092\n",
            "Epoch 2/30\n",
            "2105/2105 [==============================] - 20s 9ms/step - loss: 0.6776 - accuracy: 0.5597 - val_loss: 0.6718 - val_accuracy: 0.5528\n",
            "Epoch 3/30\n",
            "2105/2105 [==============================] - 20s 10ms/step - loss: 0.6060 - accuracy: 0.6681 - val_loss: 0.5454 - val_accuracy: 0.7351\n",
            "Epoch 4/30\n",
            "2105/2105 [==============================] - 20s 9ms/step - loss: 0.5238 - accuracy: 0.7529 - val_loss: 0.5276 - val_accuracy: 0.7374\n",
            "Epoch 5/30\n",
            "2105/2105 [==============================] - 20s 9ms/step - loss: 0.4705 - accuracy: 0.7899 - val_loss: 0.5288 - val_accuracy: 0.7603\n",
            "Epoch 6/30\n",
            "2105/2105 [==============================] - 20s 9ms/step - loss: 0.4317 - accuracy: 0.8135 - val_loss: 0.5266 - val_accuracy: 0.7764\n",
            "Epoch 7/30\n",
            "2105/2105 [==============================] - 20s 9ms/step - loss: 0.3976 - accuracy: 0.8307 - val_loss: 0.5308 - val_accuracy: 0.7878\n",
            "Epoch 8/30\n",
            "2105/2105 [==============================] - 20s 9ms/step - loss: 0.3694 - accuracy: 0.8453 - val_loss: 0.5456 - val_accuracy: 0.7913\n",
            "Epoch 9/30\n",
            "2105/2105 [==============================] - 20s 9ms/step - loss: 0.3453 - accuracy: 0.8579 - val_loss: 0.5455 - val_accuracy: 0.7982\n",
            "Epoch 10/30\n",
            "2105/2105 [==============================] - 20s 9ms/step - loss: 0.3222 - accuracy: 0.8685 - val_loss: 0.5554 - val_accuracy: 0.8028\n",
            "Epoch 11/30\n",
            "2105/2105 [==============================] - 20s 10ms/step - loss: 0.3038 - accuracy: 0.8766 - val_loss: 0.5727 - val_accuracy: 0.8062\n",
            "Epoch 12/30\n",
            "2105/2105 [==============================] - 20s 9ms/step - loss: 0.2852 - accuracy: 0.8841 - val_loss: 0.5872 - val_accuracy: 0.8131\n"
          ],
          "name": "stdout"
        },
        {
          "output_type": "execute_result",
          "data": {
            "text/plain": [
              "<tensorflow.python.keras.callbacks.History at 0x7f1a7181e7f0>"
            ]
          },
          "metadata": {
            "tags": []
          },
          "execution_count": 20
        }
      ]
    },
    {
      "cell_type": "markdown",
      "metadata": {
        "id": "-U0NFNmv-2JI"
      },
      "source": [
        "The two RNN models initially seemed to overfit on the training data and not generalize the validation data very well. \n",
        "\n",
        "After applying variance reduction techniques like L2 regularization, model performance improveed and shows great promise of doing much better.\n",
        "\n",
        " Data seems to favor simpler models and GRU outperforms LSTM slightly."
      ]
    },
    {
      "cell_type": "markdown",
      "metadata": {
        "id": "aqAYYAmgkOL6"
      },
      "source": [
        "# Using the model to predict sentiment of new reviews"
      ]
    },
    {
      "cell_type": "code",
      "metadata": {
        "id": "iaLRhwbTlb-D"
      },
      "source": [
        "# Function to predict review\n",
        "\n",
        "def predict_review(model, reviews):\n",
        "  # Sequence review\n",
        "  padding_type='post'\n",
        "  sample_sequences = tokenizer.texts_to_sequences(reviews)\n",
        "  reviews_padded = pad_sequences(sample_sequences, padding=padding_type, \n",
        "                                 maxlen=max_length) \n",
        "  classes = model.predict(reviews_padded)\n",
        "  for x in range(len(reviews_padded)):\n",
        "    print(reviews[x])\n",
        "    print(classes[x])\n",
        "    print('\\n')\n"
      ],
      "execution_count": 11,
      "outputs": []
    },
    {
      "cell_type": "code",
      "metadata": {
        "id": "lGSA_DsxoiPA"
      },
      "source": [
        "Sample_reviews = [\"I am not dissapointed at this one\", \n",
        "                \"Movie is absolutely lovely\",\n",
        "                \"I have watched this movie for a second time now\", \n",
        "                \"Movies with Bruce Barner are always cool\", \n",
        "                \"Lack of regard for environment and animals\",\n",
        "                \"Well acted!\"\n",
        "                  \n",
        "]"
      ],
      "execution_count": 17,
      "outputs": []
    },
    {
      "cell_type": "code",
      "metadata": {
        "id": "NTH-KvmDvYrc",
        "outputId": "c658b2b4-ce64-4304-9ffb-2ed644fe594c",
        "colab": {
          "base_uri": "https://localhost:8080/",
          "height": 443
        }
      },
      "source": [
        "predict_review(model= Emodel, reviews = Sample_reviews)"
      ],
      "execution_count": 18,
      "outputs": [
        {
          "output_type": "stream",
          "text": [
            "I am not dissapointed at this one\n",
            "[0.1098248]\n",
            "\n",
            "\n",
            "Movie is absolutely lovely\n",
            "[0.99951446]\n",
            "\n",
            "\n",
            "I have watched this movie for a second time now\n",
            "[0.43039882]\n",
            "\n",
            "\n",
            "Movies with Bruce Barner are always cool\n",
            "[0.99721307]\n",
            "\n",
            "\n",
            "Lack of regard for environment and animals\n",
            "[0.8686186]\n",
            "\n",
            "\n",
            "Well acted!\n",
            "[0.96632487]\n",
            "\n",
            "\n"
          ],
          "name": "stdout"
        }
      ]
    },
    {
      "cell_type": "code",
      "metadata": {
        "id": "5UqegyFZvZEN",
        "outputId": "df6d2b1e-e5de-436c-eb02-b5eb34596e99",
        "colab": {
          "base_uri": "https://localhost:8080/",
          "height": 443
        }
      },
      "source": [
        "predict_review(model= GRU_model, reviews = Sample_reviews)"
      ],
      "execution_count": 19,
      "outputs": [
        {
          "output_type": "stream",
          "text": [
            "I am not dissapointed at this one\n",
            "[0.11236002]\n",
            "\n",
            "\n",
            "Movie is absolutely lovely\n",
            "[0.9945949]\n",
            "\n",
            "\n",
            "I have watched this movie for a second time now\n",
            "[0.28962457]\n",
            "\n",
            "\n",
            "Movies with Bruce Barner are always cool\n",
            "[0.99692494]\n",
            "\n",
            "\n",
            "Lack of regard for environment and animals\n",
            "[0.65973353]\n",
            "\n",
            "\n",
            "Well acted!\n",
            "[0.7796829]\n",
            "\n",
            "\n"
          ],
          "name": "stdout"
        }
      ]
    },
    {
      "cell_type": "markdown",
      "metadata": {
        "id": "dgKhNW50raQs"
      },
      "source": [
        "Models do a good job in classifying but still gets some reviews wrong."
      ]
    }
  ]
}